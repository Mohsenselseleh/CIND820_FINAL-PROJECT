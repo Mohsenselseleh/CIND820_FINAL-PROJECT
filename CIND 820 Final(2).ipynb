{
 "cells": [
  {
   "cell_type": "code",
   "execution_count": 1,
   "metadata": {},
   "outputs": [
    {
     "name": "stdout",
     "output_type": "stream",
     "text": [
      "Requirement already satisfied: matplotlib in c:\\users\\mohsen\\anaconda3\\lib\\site-packages (3.2.2)\n",
      "Requirement already satisfied: kiwisolver>=1.0.1 in c:\\users\\mohsen\\anaconda3\\lib\\site-packages (from matplotlib) (1.2.0)\n",
      "Requirement already satisfied: cycler>=0.10 in c:\\users\\mohsen\\anaconda3\\lib\\site-packages (from matplotlib) (0.10.0)\n",
      "Requirement already satisfied: pyparsing!=2.0.4,!=2.1.2,!=2.1.6,>=2.0.1 in c:\\users\\mohsen\\anaconda3\\lib\\site-packages (from matplotlib) (2.4.7)\n",
      "Requirement already satisfied: numpy>=1.11 in c:\\users\\mohsen\\anaconda3\\lib\\site-packages (from matplotlib) (1.18.5)\n",
      "Requirement already satisfied: python-dateutil>=2.1 in c:\\users\\mohsen\\anaconda3\\lib\\site-packages (from matplotlib) (2.8.1)\n",
      "Requirement already satisfied: six in c:\\users\\mohsen\\anaconda3\\lib\\site-packages (from cycler>=0.10->matplotlib) (1.15.0)\n"
     ]
    },
    {
     "data": {
      "text/plain": [
       "(1000, 21)"
      ]
     },
     "execution_count": 1,
     "metadata": {},
     "output_type": "execute_result"
    }
   ],
   "source": [
    "#Data Preparation\n",
    "!pip install matplotlib\n",
    "import numpy as np\n",
    "import pandas as pd\n",
    "import matplotlib.pyplot as plt\n",
    "import seaborn as sns\n",
    "from matplotlib import pyplot\n",
    "# reading csv files\n",
    "data =  pd.read_csv(\"C:/Users/Mohsen/Desktop/german.csv\")\n",
    "df=pd.DataFrame(data)\n",
    "df.shape"
   ]
  },
  {
   "cell_type": "code",
   "execution_count": 2,
   "metadata": {},
   "outputs": [
    {
     "name": "stdout",
     "output_type": "stream",
     "text": [
      "<class 'pandas.core.frame.DataFrame'>\n",
      "RangeIndex: 1000 entries, 0 to 999\n",
      "Data columns (total 21 columns):\n",
      " #   Column                                                    Non-Null Count  Dtype \n",
      "---  ------                                                    --------------  ----- \n",
      " 0   Status of existing checking account                       1000 non-null   object\n",
      " 1   Duration in month                                         1000 non-null   int64 \n",
      " 2   Credit history                                            1000 non-null   object\n",
      " 3   Purpose                                                   1000 non-null   object\n",
      " 4   Credit amount                                             1000 non-null   int64 \n",
      " 5   Savings account/bonds                                     1000 non-null   object\n",
      " 6   Present employment since                                  1000 non-null   object\n",
      " 7   Installment rate in percentage of disposable income       1000 non-null   int64 \n",
      " 8   Personal status and sex                                   1000 non-null   object\n",
      " 9   Other debtors / guarantors                                1000 non-null   object\n",
      " 10  Present residence since                                   1000 non-null   int64 \n",
      " 11  Property                                                  1000 non-null   object\n",
      " 12  Age in years                                              1000 non-null   int64 \n",
      " 13  Other installment plans                                   1000 non-null   object\n",
      " 14  Housing                                                   1000 non-null   object\n",
      " 15  Number of existing credits at this bank                   1000 non-null   int64 \n",
      " 16  Job                                                       1000 non-null   object\n",
      " 17  Number of people being liable to provide maintenance for  1000 non-null   int64 \n",
      " 18  Telephone                                                 1000 non-null   object\n",
      " 19  foreign worker                                            1000 non-null   object\n",
      " 20  Cost Matrix                                               1000 non-null   int64 \n",
      "dtypes: int64(8), object(13)\n",
      "memory usage: 164.2+ KB\n"
     ]
    }
   ],
   "source": [
    "df.info()"
   ]
  },
  {
   "cell_type": "code",
   "execution_count": 3,
   "metadata": {},
   "outputs": [
    {
     "data": {
      "text/plain": [
       "Status of existing checking account                         0\n",
       "Duration in month                                           0\n",
       "Credit history                                              0\n",
       "Purpose                                                     0\n",
       "Credit amount                                               0\n",
       "Savings account/bonds                                       0\n",
       "Present employment since                                    0\n",
       "Installment rate in percentage of disposable income         0\n",
       "Personal status and sex                                     0\n",
       "Other debtors / guarantors                                  0\n",
       "Present residence since                                     0\n",
       "Property                                                    0\n",
       "Age in years                                                0\n",
       "Other installment plans                                     0\n",
       "Housing                                                     0\n",
       "Number of existing credits at this bank                     0\n",
       "Job                                                         0\n",
       "Number of people being liable to provide maintenance for    0\n",
       "Telephone                                                   0\n",
       "foreign worker                                              0\n",
       "Cost Matrix                                                 0\n",
       "dtype: int64"
      ]
     },
     "execution_count": 3,
     "metadata": {},
     "output_type": "execute_result"
    }
   ],
   "source": [
    "# IS THERE ANY MISSING DATA?\n",
    "df.isnull().sum()"
   ]
  },
  {
   "cell_type": "code",
   "execution_count": 4,
   "metadata": {},
   "outputs": [
    {
     "data": {
      "text/html": [
       "<div>\n",
       "<style scoped>\n",
       "    .dataframe tbody tr th:only-of-type {\n",
       "        vertical-align: middle;\n",
       "    }\n",
       "\n",
       "    .dataframe tbody tr th {\n",
       "        vertical-align: top;\n",
       "    }\n",
       "\n",
       "    .dataframe thead th {\n",
       "        text-align: right;\n",
       "    }\n",
       "</style>\n",
       "<table border=\"1\" class=\"dataframe\">\n",
       "  <thead>\n",
       "    <tr style=\"text-align: right;\">\n",
       "      <th></th>\n",
       "      <th>Status of existing checking account</th>\n",
       "      <th>Duration in month</th>\n",
       "      <th>Credit history</th>\n",
       "      <th>Purpose</th>\n",
       "      <th>Credit amount</th>\n",
       "      <th>Savings account/bonds</th>\n",
       "      <th>Present employment since</th>\n",
       "      <th>Installment rate in percentage of disposable income</th>\n",
       "      <th>Personal status and sex</th>\n",
       "      <th>Other debtors / guarantors</th>\n",
       "      <th>...</th>\n",
       "      <th>Property</th>\n",
       "      <th>Age in years</th>\n",
       "      <th>Other installment plans</th>\n",
       "      <th>Housing</th>\n",
       "      <th>Number of existing credits at this bank</th>\n",
       "      <th>Job</th>\n",
       "      <th>Number of people being liable to provide maintenance for</th>\n",
       "      <th>Telephone</th>\n",
       "      <th>foreign worker</th>\n",
       "      <th>Cost Matrix</th>\n",
       "    </tr>\n",
       "  </thead>\n",
       "  <tbody>\n",
       "    <tr>\n",
       "      <th>0</th>\n",
       "      <td>A11</td>\n",
       "      <td>6</td>\n",
       "      <td>A34</td>\n",
       "      <td>A43</td>\n",
       "      <td>1169</td>\n",
       "      <td>A65</td>\n",
       "      <td>A75</td>\n",
       "      <td>4</td>\n",
       "      <td>A93</td>\n",
       "      <td>A101</td>\n",
       "      <td>...</td>\n",
       "      <td>A121</td>\n",
       "      <td>67</td>\n",
       "      <td>A143</td>\n",
       "      <td>A152</td>\n",
       "      <td>2</td>\n",
       "      <td>A173</td>\n",
       "      <td>1</td>\n",
       "      <td>A192</td>\n",
       "      <td>A201</td>\n",
       "      <td>1</td>\n",
       "    </tr>\n",
       "    <tr>\n",
       "      <th>1</th>\n",
       "      <td>A12</td>\n",
       "      <td>48</td>\n",
       "      <td>A32</td>\n",
       "      <td>A43</td>\n",
       "      <td>5951</td>\n",
       "      <td>A61</td>\n",
       "      <td>A73</td>\n",
       "      <td>2</td>\n",
       "      <td>A92</td>\n",
       "      <td>A101</td>\n",
       "      <td>...</td>\n",
       "      <td>A121</td>\n",
       "      <td>22</td>\n",
       "      <td>A143</td>\n",
       "      <td>A152</td>\n",
       "      <td>1</td>\n",
       "      <td>A173</td>\n",
       "      <td>1</td>\n",
       "      <td>A191</td>\n",
       "      <td>A201</td>\n",
       "      <td>2</td>\n",
       "    </tr>\n",
       "    <tr>\n",
       "      <th>2</th>\n",
       "      <td>A14</td>\n",
       "      <td>12</td>\n",
       "      <td>A34</td>\n",
       "      <td>A46</td>\n",
       "      <td>2096</td>\n",
       "      <td>A61</td>\n",
       "      <td>A74</td>\n",
       "      <td>2</td>\n",
       "      <td>A93</td>\n",
       "      <td>A101</td>\n",
       "      <td>...</td>\n",
       "      <td>A121</td>\n",
       "      <td>49</td>\n",
       "      <td>A143</td>\n",
       "      <td>A152</td>\n",
       "      <td>1</td>\n",
       "      <td>A172</td>\n",
       "      <td>2</td>\n",
       "      <td>A191</td>\n",
       "      <td>A201</td>\n",
       "      <td>1</td>\n",
       "    </tr>\n",
       "    <tr>\n",
       "      <th>3</th>\n",
       "      <td>A11</td>\n",
       "      <td>42</td>\n",
       "      <td>A32</td>\n",
       "      <td>A42</td>\n",
       "      <td>7882</td>\n",
       "      <td>A61</td>\n",
       "      <td>A74</td>\n",
       "      <td>2</td>\n",
       "      <td>A93</td>\n",
       "      <td>A103</td>\n",
       "      <td>...</td>\n",
       "      <td>A122</td>\n",
       "      <td>45</td>\n",
       "      <td>A143</td>\n",
       "      <td>A153</td>\n",
       "      <td>1</td>\n",
       "      <td>A173</td>\n",
       "      <td>2</td>\n",
       "      <td>A191</td>\n",
       "      <td>A201</td>\n",
       "      <td>1</td>\n",
       "    </tr>\n",
       "    <tr>\n",
       "      <th>4</th>\n",
       "      <td>A11</td>\n",
       "      <td>24</td>\n",
       "      <td>A33</td>\n",
       "      <td>A40</td>\n",
       "      <td>4870</td>\n",
       "      <td>A61</td>\n",
       "      <td>A73</td>\n",
       "      <td>3</td>\n",
       "      <td>A93</td>\n",
       "      <td>A101</td>\n",
       "      <td>...</td>\n",
       "      <td>A124</td>\n",
       "      <td>53</td>\n",
       "      <td>A143</td>\n",
       "      <td>A153</td>\n",
       "      <td>2</td>\n",
       "      <td>A173</td>\n",
       "      <td>2</td>\n",
       "      <td>A191</td>\n",
       "      <td>A201</td>\n",
       "      <td>2</td>\n",
       "    </tr>\n",
       "    <tr>\n",
       "      <th>5</th>\n",
       "      <td>A14</td>\n",
       "      <td>36</td>\n",
       "      <td>A32</td>\n",
       "      <td>A46</td>\n",
       "      <td>9055</td>\n",
       "      <td>A65</td>\n",
       "      <td>A73</td>\n",
       "      <td>2</td>\n",
       "      <td>A93</td>\n",
       "      <td>A101</td>\n",
       "      <td>...</td>\n",
       "      <td>A124</td>\n",
       "      <td>35</td>\n",
       "      <td>A143</td>\n",
       "      <td>A153</td>\n",
       "      <td>1</td>\n",
       "      <td>A172</td>\n",
       "      <td>2</td>\n",
       "      <td>A192</td>\n",
       "      <td>A201</td>\n",
       "      <td>1</td>\n",
       "    </tr>\n",
       "    <tr>\n",
       "      <th>6</th>\n",
       "      <td>A14</td>\n",
       "      <td>24</td>\n",
       "      <td>A32</td>\n",
       "      <td>A42</td>\n",
       "      <td>2835</td>\n",
       "      <td>A63</td>\n",
       "      <td>A75</td>\n",
       "      <td>3</td>\n",
       "      <td>A93</td>\n",
       "      <td>A101</td>\n",
       "      <td>...</td>\n",
       "      <td>A122</td>\n",
       "      <td>53</td>\n",
       "      <td>A143</td>\n",
       "      <td>A152</td>\n",
       "      <td>1</td>\n",
       "      <td>A173</td>\n",
       "      <td>1</td>\n",
       "      <td>A191</td>\n",
       "      <td>A201</td>\n",
       "      <td>1</td>\n",
       "    </tr>\n",
       "    <tr>\n",
       "      <th>7</th>\n",
       "      <td>A12</td>\n",
       "      <td>36</td>\n",
       "      <td>A32</td>\n",
       "      <td>A41</td>\n",
       "      <td>6948</td>\n",
       "      <td>A61</td>\n",
       "      <td>A73</td>\n",
       "      <td>2</td>\n",
       "      <td>A93</td>\n",
       "      <td>A101</td>\n",
       "      <td>...</td>\n",
       "      <td>A123</td>\n",
       "      <td>35</td>\n",
       "      <td>A143</td>\n",
       "      <td>A151</td>\n",
       "      <td>1</td>\n",
       "      <td>A174</td>\n",
       "      <td>1</td>\n",
       "      <td>A192</td>\n",
       "      <td>A201</td>\n",
       "      <td>1</td>\n",
       "    </tr>\n",
       "    <tr>\n",
       "      <th>8</th>\n",
       "      <td>A14</td>\n",
       "      <td>12</td>\n",
       "      <td>A32</td>\n",
       "      <td>A43</td>\n",
       "      <td>3059</td>\n",
       "      <td>A64</td>\n",
       "      <td>A74</td>\n",
       "      <td>2</td>\n",
       "      <td>A91</td>\n",
       "      <td>A101</td>\n",
       "      <td>...</td>\n",
       "      <td>A121</td>\n",
       "      <td>61</td>\n",
       "      <td>A143</td>\n",
       "      <td>A152</td>\n",
       "      <td>1</td>\n",
       "      <td>A172</td>\n",
       "      <td>1</td>\n",
       "      <td>A191</td>\n",
       "      <td>A201</td>\n",
       "      <td>1</td>\n",
       "    </tr>\n",
       "    <tr>\n",
       "      <th>9</th>\n",
       "      <td>A12</td>\n",
       "      <td>30</td>\n",
       "      <td>A34</td>\n",
       "      <td>A40</td>\n",
       "      <td>5234</td>\n",
       "      <td>A61</td>\n",
       "      <td>A71</td>\n",
       "      <td>4</td>\n",
       "      <td>A94</td>\n",
       "      <td>A101</td>\n",
       "      <td>...</td>\n",
       "      <td>A123</td>\n",
       "      <td>28</td>\n",
       "      <td>A143</td>\n",
       "      <td>A152</td>\n",
       "      <td>2</td>\n",
       "      <td>A174</td>\n",
       "      <td>1</td>\n",
       "      <td>A191</td>\n",
       "      <td>A201</td>\n",
       "      <td>2</td>\n",
       "    </tr>\n",
       "  </tbody>\n",
       "</table>\n",
       "<p>10 rows × 21 columns</p>\n",
       "</div>"
      ],
      "text/plain": [
       "  Status of existing checking account  Duration in month Credit history  \\\n",
       "0                                 A11                  6            A34   \n",
       "1                                 A12                 48            A32   \n",
       "2                                 A14                 12            A34   \n",
       "3                                 A11                 42            A32   \n",
       "4                                 A11                 24            A33   \n",
       "5                                 A14                 36            A32   \n",
       "6                                 A14                 24            A32   \n",
       "7                                 A12                 36            A32   \n",
       "8                                 A14                 12            A32   \n",
       "9                                 A12                 30            A34   \n",
       "\n",
       "  Purpose  Credit amount Savings account/bonds Present employment since  \\\n",
       "0     A43           1169                   A65                      A75   \n",
       "1     A43           5951                   A61                      A73   \n",
       "2     A46           2096                   A61                      A74   \n",
       "3     A42           7882                   A61                      A74   \n",
       "4     A40           4870                   A61                      A73   \n",
       "5     A46           9055                   A65                      A73   \n",
       "6     A42           2835                   A63                      A75   \n",
       "7     A41           6948                   A61                      A73   \n",
       "8     A43           3059                   A64                      A74   \n",
       "9     A40           5234                   A61                      A71   \n",
       "\n",
       "   Installment rate in percentage of disposable income  \\\n",
       "0                                                  4     \n",
       "1                                                  2     \n",
       "2                                                  2     \n",
       "3                                                  2     \n",
       "4                                                  3     \n",
       "5                                                  2     \n",
       "6                                                  3     \n",
       "7                                                  2     \n",
       "8                                                  2     \n",
       "9                                                  4     \n",
       "\n",
       "  Personal status and sex Other debtors / guarantors  ...  Property  \\\n",
       "0                     A93                       A101  ...      A121   \n",
       "1                     A92                       A101  ...      A121   \n",
       "2                     A93                       A101  ...      A121   \n",
       "3                     A93                       A103  ...      A122   \n",
       "4                     A93                       A101  ...      A124   \n",
       "5                     A93                       A101  ...      A124   \n",
       "6                     A93                       A101  ...      A122   \n",
       "7                     A93                       A101  ...      A123   \n",
       "8                     A91                       A101  ...      A121   \n",
       "9                     A94                       A101  ...      A123   \n",
       "\n",
       "  Age in years  Other installment plans  Housing  \\\n",
       "0           67                      A143    A152   \n",
       "1           22                      A143    A152   \n",
       "2           49                      A143    A152   \n",
       "3           45                      A143    A153   \n",
       "4           53                      A143    A153   \n",
       "5           35                      A143    A153   \n",
       "6           53                      A143    A152   \n",
       "7           35                      A143    A151   \n",
       "8           61                      A143    A152   \n",
       "9           28                      A143    A152   \n",
       "\n",
       "  Number of existing credits at this bank   Job  \\\n",
       "0                                       2  A173   \n",
       "1                                       1  A173   \n",
       "2                                       1  A172   \n",
       "3                                       1  A173   \n",
       "4                                       2  A173   \n",
       "5                                       1  A172   \n",
       "6                                       1  A173   \n",
       "7                                       1  A174   \n",
       "8                                       1  A172   \n",
       "9                                       2  A174   \n",
       "\n",
       "  Number of people being liable to provide maintenance for  Telephone  \\\n",
       "0                                                  1             A192   \n",
       "1                                                  1             A191   \n",
       "2                                                  2             A191   \n",
       "3                                                  2             A191   \n",
       "4                                                  2             A191   \n",
       "5                                                  2             A192   \n",
       "6                                                  1             A191   \n",
       "7                                                  1             A192   \n",
       "8                                                  1             A191   \n",
       "9                                                  1             A191   \n",
       "\n",
       "  foreign worker Cost Matrix  \n",
       "0           A201           1  \n",
       "1           A201           2  \n",
       "2           A201           1  \n",
       "3           A201           1  \n",
       "4           A201           2  \n",
       "5           A201           1  \n",
       "6           A201           1  \n",
       "7           A201           1  \n",
       "8           A201           1  \n",
       "9           A201           2  \n",
       "\n",
       "[10 rows x 21 columns]"
      ]
     },
     "execution_count": 4,
     "metadata": {},
     "output_type": "execute_result"
    }
   ],
   "source": [
    "df.head(10)"
   ]
  },
  {
   "cell_type": "code",
   "execution_count": 5,
   "metadata": {},
   "outputs": [
    {
     "data": {
      "text/plain": [
       "(250, 21)"
      ]
     },
     "execution_count": 5,
     "metadata": {},
     "output_type": "execute_result"
    }
   ],
   "source": [
    "#Create a  dataset by taking a random sample of 250 records\n",
    "df=df.sample(n=250,replace=\"False\")\n",
    "df.shape"
   ]
  },
  {
   "cell_type": "code",
   "execution_count": 6,
   "metadata": {},
   "outputs": [
    {
     "data": {
      "text/html": [
       "<div>\n",
       "<style scoped>\n",
       "    .dataframe tbody tr th:only-of-type {\n",
       "        vertical-align: middle;\n",
       "    }\n",
       "\n",
       "    .dataframe tbody tr th {\n",
       "        vertical-align: top;\n",
       "    }\n",
       "\n",
       "    .dataframe thead th {\n",
       "        text-align: right;\n",
       "    }\n",
       "</style>\n",
       "<table border=\"1\" class=\"dataframe\">\n",
       "  <thead>\n",
       "    <tr style=\"text-align: right;\">\n",
       "      <th></th>\n",
       "      <th>Status of existing checking account</th>\n",
       "      <th>Duration in month</th>\n",
       "      <th>Credit history</th>\n",
       "      <th>Purpose</th>\n",
       "      <th>Credit amount</th>\n",
       "      <th>Savings account/bonds</th>\n",
       "      <th>Present employment since</th>\n",
       "      <th>Installment rate in percentage of disposable income</th>\n",
       "      <th>Personal status and sex</th>\n",
       "      <th>Other debtors / guarantors</th>\n",
       "      <th>Present residence since</th>\n",
       "      <th>Property</th>\n",
       "      <th>Age in years</th>\n",
       "      <th>Housing</th>\n",
       "      <th>Number of existing credits at this bank</th>\n",
       "      <th>Job</th>\n",
       "      <th>Number of people being liable to provide maintenance for</th>\n",
       "      <th>Telephone</th>\n",
       "      <th>foreign worker</th>\n",
       "      <th>Cost Matrix</th>\n",
       "    </tr>\n",
       "  </thead>\n",
       "  <tbody>\n",
       "    <tr>\n",
       "      <th>262</th>\n",
       "      <td>A11</td>\n",
       "      <td>18</td>\n",
       "      <td>A34</td>\n",
       "      <td>A40</td>\n",
       "      <td>5302</td>\n",
       "      <td>A61</td>\n",
       "      <td>A75</td>\n",
       "      <td>2</td>\n",
       "      <td>A93</td>\n",
       "      <td>A101</td>\n",
       "      <td>4</td>\n",
       "      <td>A124</td>\n",
       "      <td>36</td>\n",
       "      <td>A153</td>\n",
       "      <td>3</td>\n",
       "      <td>A174</td>\n",
       "      <td>1</td>\n",
       "      <td>A192</td>\n",
       "      <td>A201</td>\n",
       "      <td>1</td>\n",
       "    </tr>\n",
       "    <tr>\n",
       "      <th>104</th>\n",
       "      <td>A14</td>\n",
       "      <td>12</td>\n",
       "      <td>A32</td>\n",
       "      <td>A41</td>\n",
       "      <td>2445</td>\n",
       "      <td>A65</td>\n",
       "      <td>A72</td>\n",
       "      <td>2</td>\n",
       "      <td>A94</td>\n",
       "      <td>A101</td>\n",
       "      <td>4</td>\n",
       "      <td>A123</td>\n",
       "      <td>26</td>\n",
       "      <td>A151</td>\n",
       "      <td>1</td>\n",
       "      <td>A173</td>\n",
       "      <td>1</td>\n",
       "      <td>A192</td>\n",
       "      <td>A201</td>\n",
       "      <td>1</td>\n",
       "    </tr>\n",
       "    <tr>\n",
       "      <th>663</th>\n",
       "      <td>A12</td>\n",
       "      <td>6</td>\n",
       "      <td>A33</td>\n",
       "      <td>A42</td>\n",
       "      <td>1050</td>\n",
       "      <td>A61</td>\n",
       "      <td>A71</td>\n",
       "      <td>4</td>\n",
       "      <td>A93</td>\n",
       "      <td>A101</td>\n",
       "      <td>1</td>\n",
       "      <td>A122</td>\n",
       "      <td>35</td>\n",
       "      <td>A152</td>\n",
       "      <td>2</td>\n",
       "      <td>A174</td>\n",
       "      <td>1</td>\n",
       "      <td>A192</td>\n",
       "      <td>A201</td>\n",
       "      <td>1</td>\n",
       "    </tr>\n",
       "    <tr>\n",
       "      <th>517</th>\n",
       "      <td>A14</td>\n",
       "      <td>36</td>\n",
       "      <td>A34</td>\n",
       "      <td>A42</td>\n",
       "      <td>7127</td>\n",
       "      <td>A61</td>\n",
       "      <td>A72</td>\n",
       "      <td>2</td>\n",
       "      <td>A92</td>\n",
       "      <td>A101</td>\n",
       "      <td>4</td>\n",
       "      <td>A122</td>\n",
       "      <td>23</td>\n",
       "      <td>A151</td>\n",
       "      <td>2</td>\n",
       "      <td>A173</td>\n",
       "      <td>1</td>\n",
       "      <td>A192</td>\n",
       "      <td>A201</td>\n",
       "      <td>2</td>\n",
       "    </tr>\n",
       "    <tr>\n",
       "      <th>358</th>\n",
       "      <td>A14</td>\n",
       "      <td>12</td>\n",
       "      <td>A32</td>\n",
       "      <td>A43</td>\n",
       "      <td>776</td>\n",
       "      <td>A61</td>\n",
       "      <td>A73</td>\n",
       "      <td>4</td>\n",
       "      <td>A94</td>\n",
       "      <td>A101</td>\n",
       "      <td>2</td>\n",
       "      <td>A121</td>\n",
       "      <td>28</td>\n",
       "      <td>A152</td>\n",
       "      <td>1</td>\n",
       "      <td>A173</td>\n",
       "      <td>1</td>\n",
       "      <td>A191</td>\n",
       "      <td>A201</td>\n",
       "      <td>1</td>\n",
       "    </tr>\n",
       "    <tr>\n",
       "      <th>...</th>\n",
       "      <td>...</td>\n",
       "      <td>...</td>\n",
       "      <td>...</td>\n",
       "      <td>...</td>\n",
       "      <td>...</td>\n",
       "      <td>...</td>\n",
       "      <td>...</td>\n",
       "      <td>...</td>\n",
       "      <td>...</td>\n",
       "      <td>...</td>\n",
       "      <td>...</td>\n",
       "      <td>...</td>\n",
       "      <td>...</td>\n",
       "      <td>...</td>\n",
       "      <td>...</td>\n",
       "      <td>...</td>\n",
       "      <td>...</td>\n",
       "      <td>...</td>\n",
       "      <td>...</td>\n",
       "      <td>...</td>\n",
       "    </tr>\n",
       "    <tr>\n",
       "      <th>481</th>\n",
       "      <td>A12</td>\n",
       "      <td>24</td>\n",
       "      <td>A32</td>\n",
       "      <td>A40</td>\n",
       "      <td>1201</td>\n",
       "      <td>A61</td>\n",
       "      <td>A72</td>\n",
       "      <td>4</td>\n",
       "      <td>A93</td>\n",
       "      <td>A101</td>\n",
       "      <td>1</td>\n",
       "      <td>A122</td>\n",
       "      <td>26</td>\n",
       "      <td>A152</td>\n",
       "      <td>1</td>\n",
       "      <td>A173</td>\n",
       "      <td>1</td>\n",
       "      <td>A191</td>\n",
       "      <td>A201</td>\n",
       "      <td>1</td>\n",
       "    </tr>\n",
       "    <tr>\n",
       "      <th>665</th>\n",
       "      <td>A14</td>\n",
       "      <td>24</td>\n",
       "      <td>A34</td>\n",
       "      <td>A410</td>\n",
       "      <td>6314</td>\n",
       "      <td>A61</td>\n",
       "      <td>A71</td>\n",
       "      <td>4</td>\n",
       "      <td>A93</td>\n",
       "      <td>A102</td>\n",
       "      <td>2</td>\n",
       "      <td>A124</td>\n",
       "      <td>27</td>\n",
       "      <td>A152</td>\n",
       "      <td>2</td>\n",
       "      <td>A174</td>\n",
       "      <td>1</td>\n",
       "      <td>A192</td>\n",
       "      <td>A201</td>\n",
       "      <td>1</td>\n",
       "    </tr>\n",
       "    <tr>\n",
       "      <th>519</th>\n",
       "      <td>A14</td>\n",
       "      <td>6</td>\n",
       "      <td>A34</td>\n",
       "      <td>A43</td>\n",
       "      <td>700</td>\n",
       "      <td>A65</td>\n",
       "      <td>A75</td>\n",
       "      <td>4</td>\n",
       "      <td>A93</td>\n",
       "      <td>A101</td>\n",
       "      <td>4</td>\n",
       "      <td>A124</td>\n",
       "      <td>36</td>\n",
       "      <td>A153</td>\n",
       "      <td>2</td>\n",
       "      <td>A173</td>\n",
       "      <td>1</td>\n",
       "      <td>A191</td>\n",
       "      <td>A201</td>\n",
       "      <td>1</td>\n",
       "    </tr>\n",
       "    <tr>\n",
       "      <th>469</th>\n",
       "      <td>A14</td>\n",
       "      <td>24</td>\n",
       "      <td>A33</td>\n",
       "      <td>A41</td>\n",
       "      <td>4679</td>\n",
       "      <td>A61</td>\n",
       "      <td>A74</td>\n",
       "      <td>3</td>\n",
       "      <td>A93</td>\n",
       "      <td>A101</td>\n",
       "      <td>3</td>\n",
       "      <td>A123</td>\n",
       "      <td>35</td>\n",
       "      <td>A152</td>\n",
       "      <td>2</td>\n",
       "      <td>A172</td>\n",
       "      <td>1</td>\n",
       "      <td>A192</td>\n",
       "      <td>A201</td>\n",
       "      <td>1</td>\n",
       "    </tr>\n",
       "    <tr>\n",
       "      <th>361</th>\n",
       "      <td>A13</td>\n",
       "      <td>12</td>\n",
       "      <td>A32</td>\n",
       "      <td>A43</td>\n",
       "      <td>3399</td>\n",
       "      <td>A65</td>\n",
       "      <td>A75</td>\n",
       "      <td>2</td>\n",
       "      <td>A93</td>\n",
       "      <td>A101</td>\n",
       "      <td>3</td>\n",
       "      <td>A123</td>\n",
       "      <td>37</td>\n",
       "      <td>A152</td>\n",
       "      <td>1</td>\n",
       "      <td>A174</td>\n",
       "      <td>1</td>\n",
       "      <td>A191</td>\n",
       "      <td>A201</td>\n",
       "      <td>1</td>\n",
       "    </tr>\n",
       "  </tbody>\n",
       "</table>\n",
       "<p>250 rows × 20 columns</p>\n",
       "</div>"
      ],
      "text/plain": [
       "    Status of existing checking account  Duration in month Credit history  \\\n",
       "262                                 A11                 18            A34   \n",
       "104                                 A14                 12            A32   \n",
       "663                                 A12                  6            A33   \n",
       "517                                 A14                 36            A34   \n",
       "358                                 A14                 12            A32   \n",
       "..                                  ...                ...            ...   \n",
       "481                                 A12                 24            A32   \n",
       "665                                 A14                 24            A34   \n",
       "519                                 A14                  6            A34   \n",
       "469                                 A14                 24            A33   \n",
       "361                                 A13                 12            A32   \n",
       "\n",
       "    Purpose  Credit amount Savings account/bonds Present employment since  \\\n",
       "262     A40           5302                   A61                      A75   \n",
       "104     A41           2445                   A65                      A72   \n",
       "663     A42           1050                   A61                      A71   \n",
       "517     A42           7127                   A61                      A72   \n",
       "358     A43            776                   A61                      A73   \n",
       "..      ...            ...                   ...                      ...   \n",
       "481     A40           1201                   A61                      A72   \n",
       "665    A410           6314                   A61                      A71   \n",
       "519     A43            700                   A65                      A75   \n",
       "469     A41           4679                   A61                      A74   \n",
       "361     A43           3399                   A65                      A75   \n",
       "\n",
       "     Installment rate in percentage of disposable income  \\\n",
       "262                                                  2     \n",
       "104                                                  2     \n",
       "663                                                  4     \n",
       "517                                                  2     \n",
       "358                                                  4     \n",
       "..                                                 ...     \n",
       "481                                                  4     \n",
       "665                                                  4     \n",
       "519                                                  4     \n",
       "469                                                  3     \n",
       "361                                                  2     \n",
       "\n",
       "    Personal status and sex Other debtors / guarantors  \\\n",
       "262                     A93                       A101   \n",
       "104                     A94                       A101   \n",
       "663                     A93                       A101   \n",
       "517                     A92                       A101   \n",
       "358                     A94                       A101   \n",
       "..                      ...                        ...   \n",
       "481                     A93                       A101   \n",
       "665                     A93                       A102   \n",
       "519                     A93                       A101   \n",
       "469                     A93                       A101   \n",
       "361                     A93                       A101   \n",
       "\n",
       "     Present residence since Property  Age in years Housing  \\\n",
       "262                        4     A124            36    A153   \n",
       "104                        4     A123            26    A151   \n",
       "663                        1     A122            35    A152   \n",
       "517                        4     A122            23    A151   \n",
       "358                        2     A121            28    A152   \n",
       "..                       ...      ...           ...     ...   \n",
       "481                        1     A122            26    A152   \n",
       "665                        2     A124            27    A152   \n",
       "519                        4     A124            36    A153   \n",
       "469                        3     A123            35    A152   \n",
       "361                        3     A123            37    A152   \n",
       "\n",
       "     Number of existing credits at this bank   Job  \\\n",
       "262                                        3  A174   \n",
       "104                                        1  A173   \n",
       "663                                        2  A174   \n",
       "517                                        2  A173   \n",
       "358                                        1  A173   \n",
       "..                                       ...   ...   \n",
       "481                                        1  A173   \n",
       "665                                        2  A174   \n",
       "519                                        2  A173   \n",
       "469                                        2  A172   \n",
       "361                                        1  A174   \n",
       "\n",
       "     Number of people being liable to provide maintenance for Telephone  \\\n",
       "262                                                  1             A192   \n",
       "104                                                  1             A192   \n",
       "663                                                  1             A192   \n",
       "517                                                  1             A192   \n",
       "358                                                  1             A191   \n",
       "..                                                 ...              ...   \n",
       "481                                                  1             A191   \n",
       "665                                                  1             A192   \n",
       "519                                                  1             A191   \n",
       "469                                                  1             A192   \n",
       "361                                                  1             A191   \n",
       "\n",
       "    foreign worker  Cost Matrix  \n",
       "262           A201            1  \n",
       "104           A201            1  \n",
       "663           A201            1  \n",
       "517           A201            2  \n",
       "358           A201            1  \n",
       "..             ...          ...  \n",
       "481           A201            1  \n",
       "665           A201            1  \n",
       "519           A201            1  \n",
       "469           A201            1  \n",
       "361           A201            1  \n",
       "\n",
       "[250 rows x 20 columns]"
      ]
     },
     "execution_count": 6,
     "metadata": {},
     "output_type": "execute_result"
    }
   ],
   "source": [
    "df = df.drop(df.columns[13], axis=1)\n",
    "df"
   ]
  },
  {
   "cell_type": "code",
   "execution_count": 7,
   "metadata": {},
   "outputs": [],
   "source": [
    "x = df.drop(['Cost Matrix','Status of existing checking account','Credit history','Purpose','Savings account/bonds'\n",
    "            ,'Present employment since','Personal status and sex','Other debtors / guarantors','Property'\n",
    "            ,'Housing','Job','Telephone','Cost Matrix','foreign worker'],axis =1)\n",
    "            \n",
    "y = df['Cost Matrix']"
   ]
  },
  {
   "cell_type": "code",
   "execution_count": 8,
   "metadata": {},
   "outputs": [
    {
     "data": {
      "text/html": [
       "<div>\n",
       "<style scoped>\n",
       "    .dataframe tbody tr th:only-of-type {\n",
       "        vertical-align: middle;\n",
       "    }\n",
       "\n",
       "    .dataframe tbody tr th {\n",
       "        vertical-align: top;\n",
       "    }\n",
       "\n",
       "    .dataframe thead th {\n",
       "        text-align: right;\n",
       "    }\n",
       "</style>\n",
       "<table border=\"1\" class=\"dataframe\">\n",
       "  <thead>\n",
       "    <tr style=\"text-align: right;\">\n",
       "      <th></th>\n",
       "      <th>Duration in month</th>\n",
       "      <th>Credit amount</th>\n",
       "      <th>Installment rate in percentage of disposable income</th>\n",
       "      <th>Present residence since</th>\n",
       "      <th>Age in years</th>\n",
       "      <th>Number of existing credits at this bank</th>\n",
       "      <th>Number of people being liable to provide maintenance for</th>\n",
       "    </tr>\n",
       "  </thead>\n",
       "  <tbody>\n",
       "    <tr>\n",
       "      <th>262</th>\n",
       "      <td>18</td>\n",
       "      <td>5302</td>\n",
       "      <td>2</td>\n",
       "      <td>4</td>\n",
       "      <td>36</td>\n",
       "      <td>3</td>\n",
       "      <td>1</td>\n",
       "    </tr>\n",
       "    <tr>\n",
       "      <th>104</th>\n",
       "      <td>12</td>\n",
       "      <td>2445</td>\n",
       "      <td>2</td>\n",
       "      <td>4</td>\n",
       "      <td>26</td>\n",
       "      <td>1</td>\n",
       "      <td>1</td>\n",
       "    </tr>\n",
       "    <tr>\n",
       "      <th>663</th>\n",
       "      <td>6</td>\n",
       "      <td>1050</td>\n",
       "      <td>4</td>\n",
       "      <td>1</td>\n",
       "      <td>35</td>\n",
       "      <td>2</td>\n",
       "      <td>1</td>\n",
       "    </tr>\n",
       "    <tr>\n",
       "      <th>517</th>\n",
       "      <td>36</td>\n",
       "      <td>7127</td>\n",
       "      <td>2</td>\n",
       "      <td>4</td>\n",
       "      <td>23</td>\n",
       "      <td>2</td>\n",
       "      <td>1</td>\n",
       "    </tr>\n",
       "    <tr>\n",
       "      <th>358</th>\n",
       "      <td>12</td>\n",
       "      <td>776</td>\n",
       "      <td>4</td>\n",
       "      <td>2</td>\n",
       "      <td>28</td>\n",
       "      <td>1</td>\n",
       "      <td>1</td>\n",
       "    </tr>\n",
       "    <tr>\n",
       "      <th>...</th>\n",
       "      <td>...</td>\n",
       "      <td>...</td>\n",
       "      <td>...</td>\n",
       "      <td>...</td>\n",
       "      <td>...</td>\n",
       "      <td>...</td>\n",
       "      <td>...</td>\n",
       "    </tr>\n",
       "    <tr>\n",
       "      <th>481</th>\n",
       "      <td>24</td>\n",
       "      <td>1201</td>\n",
       "      <td>4</td>\n",
       "      <td>1</td>\n",
       "      <td>26</td>\n",
       "      <td>1</td>\n",
       "      <td>1</td>\n",
       "    </tr>\n",
       "    <tr>\n",
       "      <th>665</th>\n",
       "      <td>24</td>\n",
       "      <td>6314</td>\n",
       "      <td>4</td>\n",
       "      <td>2</td>\n",
       "      <td>27</td>\n",
       "      <td>2</td>\n",
       "      <td>1</td>\n",
       "    </tr>\n",
       "    <tr>\n",
       "      <th>519</th>\n",
       "      <td>6</td>\n",
       "      <td>700</td>\n",
       "      <td>4</td>\n",
       "      <td>4</td>\n",
       "      <td>36</td>\n",
       "      <td>2</td>\n",
       "      <td>1</td>\n",
       "    </tr>\n",
       "    <tr>\n",
       "      <th>469</th>\n",
       "      <td>24</td>\n",
       "      <td>4679</td>\n",
       "      <td>3</td>\n",
       "      <td>3</td>\n",
       "      <td>35</td>\n",
       "      <td>2</td>\n",
       "      <td>1</td>\n",
       "    </tr>\n",
       "    <tr>\n",
       "      <th>361</th>\n",
       "      <td>12</td>\n",
       "      <td>3399</td>\n",
       "      <td>2</td>\n",
       "      <td>3</td>\n",
       "      <td>37</td>\n",
       "      <td>1</td>\n",
       "      <td>1</td>\n",
       "    </tr>\n",
       "  </tbody>\n",
       "</table>\n",
       "<p>250 rows × 7 columns</p>\n",
       "</div>"
      ],
      "text/plain": [
       "     Duration in month  Credit amount  \\\n",
       "262                 18           5302   \n",
       "104                 12           2445   \n",
       "663                  6           1050   \n",
       "517                 36           7127   \n",
       "358                 12            776   \n",
       "..                 ...            ...   \n",
       "481                 24           1201   \n",
       "665                 24           6314   \n",
       "519                  6            700   \n",
       "469                 24           4679   \n",
       "361                 12           3399   \n",
       "\n",
       "     Installment rate in percentage of disposable income  \\\n",
       "262                                                  2     \n",
       "104                                                  2     \n",
       "663                                                  4     \n",
       "517                                                  2     \n",
       "358                                                  4     \n",
       "..                                                 ...     \n",
       "481                                                  4     \n",
       "665                                                  4     \n",
       "519                                                  4     \n",
       "469                                                  3     \n",
       "361                                                  2     \n",
       "\n",
       "     Present residence since  Age in years  \\\n",
       "262                        4            36   \n",
       "104                        4            26   \n",
       "663                        1            35   \n",
       "517                        4            23   \n",
       "358                        2            28   \n",
       "..                       ...           ...   \n",
       "481                        1            26   \n",
       "665                        2            27   \n",
       "519                        4            36   \n",
       "469                        3            35   \n",
       "361                        3            37   \n",
       "\n",
       "     Number of existing credits at this bank  \\\n",
       "262                                        3   \n",
       "104                                        1   \n",
       "663                                        2   \n",
       "517                                        2   \n",
       "358                                        1   \n",
       "..                                       ...   \n",
       "481                                        1   \n",
       "665                                        2   \n",
       "519                                        2   \n",
       "469                                        2   \n",
       "361                                        1   \n",
       "\n",
       "     Number of people being liable to provide maintenance for  \n",
       "262                                                  1         \n",
       "104                                                  1         \n",
       "663                                                  1         \n",
       "517                                                  1         \n",
       "358                                                  1         \n",
       "..                                                 ...         \n",
       "481                                                  1         \n",
       "665                                                  1         \n",
       "519                                                  1         \n",
       "469                                                  1         \n",
       "361                                                  1         \n",
       "\n",
       "[250 rows x 7 columns]"
      ]
     },
     "execution_count": 8,
     "metadata": {},
     "output_type": "execute_result"
    }
   ],
   "source": [
    "x =pd.DataFrame(x)\n",
    "x"
   ]
  },
  {
   "cell_type": "code",
   "execution_count": 9,
   "metadata": {},
   "outputs": [
    {
     "data": {
      "text/html": [
       "<div>\n",
       "<style scoped>\n",
       "    .dataframe tbody tr th:only-of-type {\n",
       "        vertical-align: middle;\n",
       "    }\n",
       "\n",
       "    .dataframe tbody tr th {\n",
       "        vertical-align: top;\n",
       "    }\n",
       "\n",
       "    .dataframe thead th {\n",
       "        text-align: right;\n",
       "    }\n",
       "</style>\n",
       "<table border=\"1\" class=\"dataframe\">\n",
       "  <thead>\n",
       "    <tr style=\"text-align: right;\">\n",
       "      <th></th>\n",
       "      <th>Duration in month</th>\n",
       "      <th>Credit amount</th>\n",
       "      <th>Installment rate in percentage of disposable income</th>\n",
       "      <th>Present residence since</th>\n",
       "      <th>Age in years</th>\n",
       "      <th>Number of existing credits at this bank</th>\n",
       "      <th>Number of people being liable to provide maintenance for</th>\n",
       "    </tr>\n",
       "  </thead>\n",
       "  <tbody>\n",
       "    <tr>\n",
       "      <th>count</th>\n",
       "      <td>250.000000</td>\n",
       "      <td>250.000000</td>\n",
       "      <td>250.000000</td>\n",
       "      <td>250.000000</td>\n",
       "      <td>250.000000</td>\n",
       "      <td>250.000000</td>\n",
       "      <td>250.000000</td>\n",
       "    </tr>\n",
       "    <tr>\n",
       "      <th>mean</th>\n",
       "      <td>19.968000</td>\n",
       "      <td>3044.428000</td>\n",
       "      <td>3.084000</td>\n",
       "      <td>2.820000</td>\n",
       "      <td>35.580000</td>\n",
       "      <td>1.480000</td>\n",
       "      <td>1.160000</td>\n",
       "    </tr>\n",
       "    <tr>\n",
       "      <th>std</th>\n",
       "      <td>11.668057</td>\n",
       "      <td>2525.892807</td>\n",
       "      <td>1.077771</td>\n",
       "      <td>1.170075</td>\n",
       "      <td>10.798799</td>\n",
       "      <td>0.609167</td>\n",
       "      <td>0.367341</td>\n",
       "    </tr>\n",
       "    <tr>\n",
       "      <th>min</th>\n",
       "      <td>4.000000</td>\n",
       "      <td>250.000000</td>\n",
       "      <td>1.000000</td>\n",
       "      <td>1.000000</td>\n",
       "      <td>20.000000</td>\n",
       "      <td>1.000000</td>\n",
       "      <td>1.000000</td>\n",
       "    </tr>\n",
       "    <tr>\n",
       "      <th>25%</th>\n",
       "      <td>12.000000</td>\n",
       "      <td>1282.000000</td>\n",
       "      <td>2.000000</td>\n",
       "      <td>2.000000</td>\n",
       "      <td>27.000000</td>\n",
       "      <td>1.000000</td>\n",
       "      <td>1.000000</td>\n",
       "    </tr>\n",
       "    <tr>\n",
       "      <th>50%</th>\n",
       "      <td>18.000000</td>\n",
       "      <td>2309.000000</td>\n",
       "      <td>4.000000</td>\n",
       "      <td>3.000000</td>\n",
       "      <td>33.000000</td>\n",
       "      <td>1.000000</td>\n",
       "      <td>1.000000</td>\n",
       "    </tr>\n",
       "    <tr>\n",
       "      <th>75%</th>\n",
       "      <td>24.000000</td>\n",
       "      <td>3900.500000</td>\n",
       "      <td>4.000000</td>\n",
       "      <td>4.000000</td>\n",
       "      <td>42.000000</td>\n",
       "      <td>2.000000</td>\n",
       "      <td>1.000000</td>\n",
       "    </tr>\n",
       "    <tr>\n",
       "      <th>max</th>\n",
       "      <td>60.000000</td>\n",
       "      <td>18424.000000</td>\n",
       "      <td>4.000000</td>\n",
       "      <td>4.000000</td>\n",
       "      <td>74.000000</td>\n",
       "      <td>4.000000</td>\n",
       "      <td>2.000000</td>\n",
       "    </tr>\n",
       "  </tbody>\n",
       "</table>\n",
       "</div>"
      ],
      "text/plain": [
       "       Duration in month  Credit amount  \\\n",
       "count         250.000000     250.000000   \n",
       "mean           19.968000    3044.428000   \n",
       "std            11.668057    2525.892807   \n",
       "min             4.000000     250.000000   \n",
       "25%            12.000000    1282.000000   \n",
       "50%            18.000000    2309.000000   \n",
       "75%            24.000000    3900.500000   \n",
       "max            60.000000   18424.000000   \n",
       "\n",
       "       Installment rate in percentage of disposable income  \\\n",
       "count                                         250.000000     \n",
       "mean                                            3.084000     \n",
       "std                                             1.077771     \n",
       "min                                             1.000000     \n",
       "25%                                             2.000000     \n",
       "50%                                             4.000000     \n",
       "75%                                             4.000000     \n",
       "max                                             4.000000     \n",
       "\n",
       "       Present residence since  Age in years  \\\n",
       "count               250.000000    250.000000   \n",
       "mean                  2.820000     35.580000   \n",
       "std                   1.170075     10.798799   \n",
       "min                   1.000000     20.000000   \n",
       "25%                   2.000000     27.000000   \n",
       "50%                   3.000000     33.000000   \n",
       "75%                   4.000000     42.000000   \n",
       "max                   4.000000     74.000000   \n",
       "\n",
       "       Number of existing credits at this bank  \\\n",
       "count                               250.000000   \n",
       "mean                                  1.480000   \n",
       "std                                   0.609167   \n",
       "min                                   1.000000   \n",
       "25%                                   1.000000   \n",
       "50%                                   1.000000   \n",
       "75%                                   2.000000   \n",
       "max                                   4.000000   \n",
       "\n",
       "       Number of people being liable to provide maintenance for  \n",
       "count                                         250.000000         \n",
       "mean                                            1.160000         \n",
       "std                                             0.367341         \n",
       "min                                             1.000000         \n",
       "25%                                             1.000000         \n",
       "50%                                             1.000000         \n",
       "75%                                             1.000000         \n",
       "max                                             2.000000         "
      ]
     },
     "execution_count": 9,
     "metadata": {},
     "output_type": "execute_result"
    }
   ],
   "source": [
    "x.describe()"
   ]
  },
  {
   "cell_type": "code",
   "execution_count": 10,
   "metadata": {},
   "outputs": [
    {
     "data": {
      "image/png": "[encoded data removed]",
      "text/plain": [
       "<Figure size 432x288 with 1 Axes>"
      ]
     },
     "metadata": {
      "needs_background": "light"
     },
     "output_type": "display_data"
    }
   ],
   "source": [
    "# IS THERE ANY OUTLIER IN QUANTITATIVE VARIABLES?\n",
    "boxplot = x.boxplot(column=['Duration in month','Credit amount','Installment rate in percentage of disposable income','Present residence since','Age in years','Number of existing credits at this bank','Number of people being liable to provide maintenance for'])"
   ]
  },
  {
   "cell_type": "code",
   "execution_count": 11,
   "metadata": {},
   "outputs": [
    {
     "data": {
      "image/png": "[encoded data removed]",
      "text/plain": [
       "<Figure size 432x288 with 9 Axes>"
      ]
     },
     "metadata": {
      "needs_background": "light"
     },
     "output_type": "display_data"
    }
   ],
   "source": [
    "#histograms\n",
    "hist = x.hist(bins=3)"
   ]
  },
  {
   "cell_type": "code",
   "execution_count": 12,
   "metadata": {},
   "outputs": [
    {
     "data": {
      "text/html": [
       "<div>\n",
       "<style scoped>\n",
       "    .dataframe tbody tr th:only-of-type {\n",
       "        vertical-align: middle;\n",
       "    }\n",
       "\n",
       "    .dataframe tbody tr th {\n",
       "        vertical-align: top;\n",
       "    }\n",
       "\n",
       "    .dataframe thead th {\n",
       "        text-align: right;\n",
       "    }\n",
       "</style>\n",
       "<table border=\"1\" class=\"dataframe\">\n",
       "  <thead>\n",
       "    <tr style=\"text-align: right;\">\n",
       "      <th></th>\n",
       "      <th>Duration in month</th>\n",
       "      <th>Credit amount</th>\n",
       "      <th>Installment rate in percentage of disposable income</th>\n",
       "      <th>Present residence since</th>\n",
       "      <th>Age in years</th>\n",
       "      <th>Number of existing credits at this bank</th>\n",
       "      <th>Number of people being liable to provide maintenance for</th>\n",
       "    </tr>\n",
       "  </thead>\n",
       "  <tbody>\n",
       "    <tr>\n",
       "      <th>Duration in month</th>\n",
       "      <td>1.000000</td>\n",
       "      <td>0.636534</td>\n",
       "      <td>0.068876</td>\n",
       "      <td>0.016638</td>\n",
       "      <td>0.063799</td>\n",
       "      <td>-0.013086</td>\n",
       "      <td>-0.031595</td>\n",
       "    </tr>\n",
       "    <tr>\n",
       "      <th>Credit amount</th>\n",
       "      <td>0.636534</td>\n",
       "      <td>1.000000</td>\n",
       "      <td>-0.259730</td>\n",
       "      <td>0.015084</td>\n",
       "      <td>0.116324</td>\n",
       "      <td>-0.017598</td>\n",
       "      <td>0.052129</td>\n",
       "    </tr>\n",
       "    <tr>\n",
       "      <th>Installment rate in percentage of disposable income</th>\n",
       "      <td>0.068876</td>\n",
       "      <td>-0.259730</td>\n",
       "      <td>1.000000</td>\n",
       "      <td>-0.026178</td>\n",
       "      <td>0.064810</td>\n",
       "      <td>0.023979</td>\n",
       "      <td>-0.094947</td>\n",
       "    </tr>\n",
       "    <tr>\n",
       "      <th>Present residence since</th>\n",
       "      <td>0.016638</td>\n",
       "      <td>0.015084</td>\n",
       "      <td>-0.026178</td>\n",
       "      <td>1.000000</td>\n",
       "      <td>0.289268</td>\n",
       "      <td>0.031553</td>\n",
       "      <td>-0.026162</td>\n",
       "    </tr>\n",
       "    <tr>\n",
       "      <th>Age in years</th>\n",
       "      <td>0.063799</td>\n",
       "      <td>0.116324</td>\n",
       "      <td>0.064810</td>\n",
       "      <td>0.289268</td>\n",
       "      <td>1.000000</td>\n",
       "      <td>0.113188</td>\n",
       "      <td>0.112175</td>\n",
       "    </tr>\n",
       "    <tr>\n",
       "      <th>Number of existing credits at this bank</th>\n",
       "      <td>-0.013086</td>\n",
       "      <td>-0.017598</td>\n",
       "      <td>0.023979</td>\n",
       "      <td>0.031553</td>\n",
       "      <td>0.113188</td>\n",
       "      <td>1.000000</td>\n",
       "      <td>0.247670</td>\n",
       "    </tr>\n",
       "    <tr>\n",
       "      <th>Number of people being liable to provide maintenance for</th>\n",
       "      <td>-0.031595</td>\n",
       "      <td>0.052129</td>\n",
       "      <td>-0.094947</td>\n",
       "      <td>-0.026162</td>\n",
       "      <td>0.112175</td>\n",
       "      <td>0.247670</td>\n",
       "      <td>1.000000</td>\n",
       "    </tr>\n",
       "  </tbody>\n",
       "</table>\n",
       "</div>"
      ],
      "text/plain": [
       "                                                    Duration in month  \\\n",
       "Duration in month                                            1.000000   \n",
       "Credit amount                                                0.636534   \n",
       "Installment rate in percentage of disposable in...           0.068876   \n",
       "Present residence since                                      0.016638   \n",
       "Age in years                                                 0.063799   \n",
       "Number of existing credits at this bank                     -0.013086   \n",
       "Number of people being liable to provide mainte...          -0.031595   \n",
       "\n",
       "                                                    Credit amount  \\\n",
       "Duration in month                                        0.636534   \n",
       "Credit amount                                            1.000000   \n",
       "Installment rate in percentage of disposable in...      -0.259730   \n",
       "Present residence since                                  0.015084   \n",
       "Age in years                                             0.116324   \n",
       "Number of existing credits at this bank                 -0.017598   \n",
       "Number of people being liable to provide mainte...       0.052129   \n",
       "\n",
       "                                                    Installment rate in percentage of disposable income  \\\n",
       "Duration in month                                                                            0.068876     \n",
       "Credit amount                                                                               -0.259730     \n",
       "Installment rate in percentage of disposable in...                                           1.000000     \n",
       "Present residence since                                                                     -0.026178     \n",
       "Age in years                                                                                 0.064810     \n",
       "Number of existing credits at this bank                                                      0.023979     \n",
       "Number of people being liable to provide mainte...                                          -0.094947     \n",
       "\n",
       "                                                    Present residence since  \\\n",
       "Duration in month                                                  0.016638   \n",
       "Credit amount                                                      0.015084   \n",
       "Installment rate in percentage of disposable in...                -0.026178   \n",
       "Present residence since                                            1.000000   \n",
       "Age in years                                                       0.289268   \n",
       "Number of existing credits at this bank                            0.031553   \n",
       "Number of people being liable to provide mainte...                -0.026162   \n",
       "\n",
       "                                                    Age in years  \\\n",
       "Duration in month                                       0.063799   \n",
       "Credit amount                                           0.116324   \n",
       "Installment rate in percentage of disposable in...      0.064810   \n",
       "Present residence since                                 0.289268   \n",
       "Age in years                                            1.000000   \n",
       "Number of existing credits at this bank                 0.113188   \n",
       "Number of people being liable to provide mainte...      0.112175   \n",
       "\n",
       "                                                    Number of existing credits at this bank  \\\n",
       "Duration in month                                                                 -0.013086   \n",
       "Credit amount                                                                     -0.017598   \n",
       "Installment rate in percentage of disposable in...                                 0.023979   \n",
       "Present residence since                                                            0.031553   \n",
       "Age in years                                                                       0.113188   \n",
       "Number of existing credits at this bank                                            1.000000   \n",
       "Number of people being liable to provide mainte...                                 0.247670   \n",
       "\n",
       "                                                    Number of people being liable to provide maintenance for  \n",
       "Duration in month                                                                           -0.031595         \n",
       "Credit amount                                                                                0.052129         \n",
       "Installment rate in percentage of disposable in...                                          -0.094947         \n",
       "Present residence since                                                                     -0.026162         \n",
       "Age in years                                                                                 0.112175         \n",
       "Number of existing credits at this bank                                                      0.247670         \n",
       "Number of people being liable to provide mainte...                                           1.000000         "
      ]
     },
     "execution_count": 12,
     "metadata": {},
     "output_type": "execute_result"
    }
   ],
   "source": [
    "#Which attributes seem to be correlated\n",
    "correlation =x.corr(method='pearson')\n",
    "correlation"
   ]
  },
  {
   "cell_type": "code",
   "execution_count": 13,
   "metadata": {},
   "outputs": [
    {
     "data": {
      "text/plain": [
       "<matplotlib.axes._subplots.AxesSubplot at 0x23f739ee130>"
      ]
     },
     "execution_count": 13,
     "metadata": {},
     "output_type": "execute_result"
    },
    {
     "data": {
      "image/png": "[encoded data removed]",
      "text/plain": [
       "<Figure size 432x288 with 2 Axes>"
      ]
     },
     "metadata": {
      "needs_background": "light"
     },
     "output_type": "display_data"
    }
   ],
   "source": [
    "sns.heatmap(correlation)\n",
    "#correaltions between attributes is so low except Duration in month and credit amount have strong relationship\n",
    "#Therefore it increases multicollinearity if we consider both variables then I drop one of them."
   ]
  },
  {
   "cell_type": "code",
   "execution_count": 14,
   "metadata": {},
   "outputs": [],
   "source": [
    "x= x.drop(labels=['Duration in month','Age in years'], axis=1)"
   ]
  },
  {
   "cell_type": "code",
   "execution_count": 15,
   "metadata": {},
   "outputs": [
    {
     "data": {
      "text/html": [
       "<div>\n",
       "<style scoped>\n",
       "    .dataframe tbody tr th:only-of-type {\n",
       "        vertical-align: middle;\n",
       "    }\n",
       "\n",
       "    .dataframe tbody tr th {\n",
       "        vertical-align: top;\n",
       "    }\n",
       "\n",
       "    .dataframe thead th {\n",
       "        text-align: right;\n",
       "    }\n",
       "</style>\n",
       "<table border=\"1\" class=\"dataframe\">\n",
       "  <thead>\n",
       "    <tr style=\"text-align: right;\">\n",
       "      <th></th>\n",
       "      <th>Credit amount</th>\n",
       "      <th>Installment rate in percentage of disposable income</th>\n",
       "      <th>Present residence since</th>\n",
       "      <th>Number of existing credits at this bank</th>\n",
       "      <th>Number of people being liable to provide maintenance for</th>\n",
       "    </tr>\n",
       "  </thead>\n",
       "  <tbody>\n",
       "    <tr>\n",
       "      <th>262</th>\n",
       "      <td>5302</td>\n",
       "      <td>2</td>\n",
       "      <td>4</td>\n",
       "      <td>3</td>\n",
       "      <td>1</td>\n",
       "    </tr>\n",
       "    <tr>\n",
       "      <th>104</th>\n",
       "      <td>2445</td>\n",
       "      <td>2</td>\n",
       "      <td>4</td>\n",
       "      <td>1</td>\n",
       "      <td>1</td>\n",
       "    </tr>\n",
       "    <tr>\n",
       "      <th>663</th>\n",
       "      <td>1050</td>\n",
       "      <td>4</td>\n",
       "      <td>1</td>\n",
       "      <td>2</td>\n",
       "      <td>1</td>\n",
       "    </tr>\n",
       "    <tr>\n",
       "      <th>517</th>\n",
       "      <td>7127</td>\n",
       "      <td>2</td>\n",
       "      <td>4</td>\n",
       "      <td>2</td>\n",
       "      <td>1</td>\n",
       "    </tr>\n",
       "    <tr>\n",
       "      <th>358</th>\n",
       "      <td>776</td>\n",
       "      <td>4</td>\n",
       "      <td>2</td>\n",
       "      <td>1</td>\n",
       "      <td>1</td>\n",
       "    </tr>\n",
       "    <tr>\n",
       "      <th>...</th>\n",
       "      <td>...</td>\n",
       "      <td>...</td>\n",
       "      <td>...</td>\n",
       "      <td>...</td>\n",
       "      <td>...</td>\n",
       "    </tr>\n",
       "    <tr>\n",
       "      <th>481</th>\n",
       "      <td>1201</td>\n",
       "      <td>4</td>\n",
       "      <td>1</td>\n",
       "      <td>1</td>\n",
       "      <td>1</td>\n",
       "    </tr>\n",
       "    <tr>\n",
       "      <th>665</th>\n",
       "      <td>6314</td>\n",
       "      <td>4</td>\n",
       "      <td>2</td>\n",
       "      <td>2</td>\n",
       "      <td>1</td>\n",
       "    </tr>\n",
       "    <tr>\n",
       "      <th>519</th>\n",
       "      <td>700</td>\n",
       "      <td>4</td>\n",
       "      <td>4</td>\n",
       "      <td>2</td>\n",
       "      <td>1</td>\n",
       "    </tr>\n",
       "    <tr>\n",
       "      <th>469</th>\n",
       "      <td>4679</td>\n",
       "      <td>3</td>\n",
       "      <td>3</td>\n",
       "      <td>2</td>\n",
       "      <td>1</td>\n",
       "    </tr>\n",
       "    <tr>\n",
       "      <th>361</th>\n",
       "      <td>3399</td>\n",
       "      <td>2</td>\n",
       "      <td>3</td>\n",
       "      <td>1</td>\n",
       "      <td>1</td>\n",
       "    </tr>\n",
       "  </tbody>\n",
       "</table>\n",
       "<p>250 rows × 5 columns</p>\n",
       "</div>"
      ],
      "text/plain": [
       "     Credit amount  Installment rate in percentage of disposable income  \\\n",
       "262           5302                                                  2     \n",
       "104           2445                                                  2     \n",
       "663           1050                                                  4     \n",
       "517           7127                                                  2     \n",
       "358            776                                                  4     \n",
       "..             ...                                                ...     \n",
       "481           1201                                                  4     \n",
       "665           6314                                                  4     \n",
       "519            700                                                  4     \n",
       "469           4679                                                  3     \n",
       "361           3399                                                  2     \n",
       "\n",
       "     Present residence since  Number of existing credits at this bank  \\\n",
       "262                        4                                        3   \n",
       "104                        4                                        1   \n",
       "663                        1                                        2   \n",
       "517                        4                                        2   \n",
       "358                        2                                        1   \n",
       "..                       ...                                      ...   \n",
       "481                        1                                        1   \n",
       "665                        2                                        2   \n",
       "519                        4                                        2   \n",
       "469                        3                                        2   \n",
       "361                        3                                        1   \n",
       "\n",
       "     Number of people being liable to provide maintenance for  \n",
       "262                                                  1         \n",
       "104                                                  1         \n",
       "663                                                  1         \n",
       "517                                                  1         \n",
       "358                                                  1         \n",
       "..                                                 ...         \n",
       "481                                                  1         \n",
       "665                                                  1         \n",
       "519                                                  1         \n",
       "469                                                  1         \n",
       "361                                                  1         \n",
       "\n",
       "[250 rows x 5 columns]"
      ]
     },
     "execution_count": 15,
     "metadata": {},
     "output_type": "execute_result"
    }
   ],
   "source": [
    "x"
   ]
  },
  {
   "cell_type": "code",
   "execution_count": 16,
   "metadata": {},
   "outputs": [
    {
     "name": "stderr",
     "output_type": "stream",
     "text": [
      "C:\\Users\\Mohsen\\anaconda3\\lib\\site-packages\\seaborn\\_decorators.py:36: FutureWarning: Pass the following variable as a keyword arg: x. From version 0.12, the only valid positional argument will be `data`, and passing other arguments without an explicit keyword will result in an error or misinterpretation.\n",
      "  warnings.warn(\n"
     ]
    },
    {
     "data": {
      "image/png": "[encoded data removed]",
      "text/plain": [
       "<Figure size 432x288 with 2 Axes>"
      ]
     },
     "metadata": {
      "needs_background": "light"
     },
     "output_type": "display_data"
    }
   ],
   "source": [
    "plt.subplot(2,2,1)\n",
    "sns.histplot(x['Credit amount'])\n",
    "plt.subplot(2,2,2)\n",
    "sns.boxplot(x['Credit amount'])\n",
    "plt.show()"
   ]
  },
  {
   "cell_type": "code",
   "execution_count": 17,
   "metadata": {},
   "outputs": [
    {
     "name": "stderr",
     "output_type": "stream",
     "text": [
      "C:\\Users\\Mohsen\\anaconda3\\lib\\site-packages\\seaborn\\_decorators.py:36: FutureWarning: Pass the following variable as a keyword arg: x. From version 0.12, the only valid positional argument will be `data`, and passing other arguments without an explicit keyword will result in an error or misinterpretation.\n",
      "  warnings.warn(\n",
      "C:\\Users\\Mohsen\\anaconda3\\lib\\site-packages\\seaborn\\_decorators.py:36: FutureWarning: Pass the following variable as a keyword arg: x. From version 0.12, the only valid positional argument will be `data`, and passing other arguments without an explicit keyword will result in an error or misinterpretation.\n",
      "  warnings.warn(\n"
     ]
    },
    {
     "data": {
      "image/png": "[encoded data removed]",
      "text/plain": [
       "<Figure size 432x288 with 4 Axes>"
      ]
     },
     "metadata": {
      "needs_background": "light"
     },
     "output_type": "display_data"
    }
   ],
   "source": [
    "plt.subplot(2,2,1)\n",
    "sns.histplot(x['Installment rate in percentage of disposable income'])\n",
    "plt.subplot(2,2,2)\n",
    "sns.boxplot(x['Installment rate in percentage of disposable income'])\n",
    "plt.subplot(2,2,3)\n",
    "sns.histplot(x['Present residence since'])\n",
    "plt.subplot(2,2,4)\n",
    "sns.boxplot(x['Present residence since'])\n",
    "plt.show()"
   ]
  },
  {
   "cell_type": "code",
   "execution_count": 18,
   "metadata": {},
   "outputs": [
    {
     "name": "stderr",
     "output_type": "stream",
     "text": [
      "C:\\Users\\Mohsen\\anaconda3\\lib\\site-packages\\seaborn\\_decorators.py:36: FutureWarning: Pass the following variable as a keyword arg: x. From version 0.12, the only valid positional argument will be `data`, and passing other arguments without an explicit keyword will result in an error or misinterpretation.\n",
      "  warnings.warn(\n"
     ]
    },
    {
     "data": {
      "image/png": "[encoded data removed]",
      "text/plain": [
       "<Figure size 432x288 with 2 Axes>"
      ]
     },
     "metadata": {
      "needs_background": "light"
     },
     "output_type": "display_data"
    }
   ],
   "source": [
    "plt.subplot(2,2,1)\n",
    "sns.histplot(x['Present residence since'])\n",
    "plt.subplot(2,2,2)\n",
    "sns.boxplot(x['Present residence since'])\n",
    "plt.show()"
   ]
  },
  {
   "cell_type": "code",
   "execution_count": 19,
   "metadata": {},
   "outputs": [
    {
     "name": "stderr",
     "output_type": "stream",
     "text": [
      "C:\\Users\\Mohsen\\anaconda3\\lib\\site-packages\\seaborn\\_decorators.py:36: FutureWarning: Pass the following variable as a keyword arg: x. From version 0.12, the only valid positional argument will be `data`, and passing other arguments without an explicit keyword will result in an error or misinterpretation.\n",
      "  warnings.warn(\n"
     ]
    },
    {
     "data": {
      "image/png": "[encoded data removed]",
      "text/plain": [
       "<Figure size 432x288 with 2 Axes>"
      ]
     },
     "metadata": {
      "needs_background": "light"
     },
     "output_type": "display_data"
    }
   ],
   "source": [
    "plt.subplot(2,2,1)\n",
    "sns.histplot(x['Number of existing credits at this bank'])\n",
    "plt.subplot(2,2,2)\n",
    "sns.boxplot(x['Number of existing credits at this bank'])\n",
    "plt.show()"
   ]
  },
  {
   "cell_type": "code",
   "execution_count": 20,
   "metadata": {},
   "outputs": [
    {
     "data": {
      "image/png": "[encoded data removed]",
      "text/plain": [
       "<Figure size 432x288 with 1 Axes>"
      ]
     },
     "metadata": {
      "needs_background": "light"
     },
     "output_type": "display_data"
    }
   ],
   "source": [
    "plt.subplot(1,2,1)\n",
    "sns.histplot(x['Number of people being liable to provide maintenance for'])\n",
    "plt.show()"
   ]
  },
  {
   "cell_type": "code",
   "execution_count": 21,
   "metadata": {},
   "outputs": [],
   "source": [
    "#Handling Outliers in the data"
   ]
  },
  {
   "cell_type": "code",
   "execution_count": 22,
   "metadata": {},
   "outputs": [],
   "source": [
    "a = pd.DataFrame(x.skew(), columns=['Skewness'])\n",
    "b = pd.DataFrame(x.kurt(), columns=['Kurtosis'])\n",
    "tdf = a.join(b)"
   ]
  },
  {
   "cell_type": "code",
   "execution_count": 23,
   "metadata": {},
   "outputs": [
    {
     "data": {
      "text/html": [
       "<div>\n",
       "<style scoped>\n",
       "    .dataframe tbody tr th:only-of-type {\n",
       "        vertical-align: middle;\n",
       "    }\n",
       "\n",
       "    .dataframe tbody tr th {\n",
       "        vertical-align: top;\n",
       "    }\n",
       "\n",
       "    .dataframe thead th {\n",
       "        text-align: right;\n",
       "    }\n",
       "</style>\n",
       "<table border=\"1\" class=\"dataframe\">\n",
       "  <thead>\n",
       "    <tr style=\"text-align: right;\">\n",
       "      <th></th>\n",
       "      <th>Skewness</th>\n",
       "      <th>Kurtosis</th>\n",
       "    </tr>\n",
       "  </thead>\n",
       "  <tbody>\n",
       "    <tr>\n",
       "      <th>Credit amount</th>\n",
       "      <td>2.249342</td>\n",
       "      <td>7.543041</td>\n",
       "    </tr>\n",
       "    <tr>\n",
       "      <th>Installment rate in percentage of disposable income</th>\n",
       "      <td>-0.653337</td>\n",
       "      <td>-1.064912</td>\n",
       "    </tr>\n",
       "    <tr>\n",
       "      <th>Present residence since</th>\n",
       "      <td>-0.296840</td>\n",
       "      <td>-1.469566</td>\n",
       "    </tr>\n",
       "    <tr>\n",
       "      <th>Number of existing credits at this bank</th>\n",
       "      <td>1.097772</td>\n",
       "      <td>1.244931</td>\n",
       "    </tr>\n",
       "    <tr>\n",
       "      <th>Number of people being liable to provide maintenance for</th>\n",
       "      <td>1.866067</td>\n",
       "      <td>1.494096</td>\n",
       "    </tr>\n",
       "  </tbody>\n",
       "</table>\n",
       "</div>"
      ],
      "text/plain": [
       "                                                    Skewness  Kurtosis\n",
       "Credit amount                                       2.249342  7.543041\n",
       "Installment rate in percentage of disposable in... -0.653337 -1.064912\n",
       "Present residence since                            -0.296840 -1.469566\n",
       "Number of existing credits at this bank             1.097772  1.244931\n",
       "Number of people being liable to provide mainte...  1.866067  1.494096"
      ]
     },
     "execution_count": 23,
     "metadata": {},
     "output_type": "execute_result"
    }
   ],
   "source": [
    "tdf.head(100)"
   ]
  },
  {
   "cell_type": "code",
   "execution_count": 24,
   "metadata": {},
   "outputs": [
    {
     "name": "stdout",
     "output_type": "stream",
     "text": [
      "927.3000000000002\n",
      "6291.5\n"
     ]
    }
   ],
   "source": [
    "print(x['Credit amount'].quantile(0.1))\n",
    "print(x['Credit amount'].quantile(0.9))"
   ]
  },
  {
   "cell_type": "code",
   "execution_count": 25,
   "metadata": {},
   "outputs": [],
   "source": [
    "x['Credit amount']=np.where(x['Credit amount']<932.0,932.0,x['Credit amount'])\n",
    "x['Credit amount']=np.where(x['Credit amount']>7179.4,7179.4,x['Credit amount'])"
   ]
  },
  {
   "cell_type": "code",
   "execution_count": 26,
   "metadata": {},
   "outputs": [
    {
     "name": "stdout",
     "output_type": "stream",
     "text": [
      "1.9000000000000021\n",
      "4.0\n"
     ]
    }
   ],
   "source": [
    "print(x['Installment rate in percentage of disposable income'].quantile(0.1))\n",
    "print(x['Installment rate in percentage of disposable income'].quantile(0.9))"
   ]
  },
  {
   "cell_type": "code",
   "execution_count": 27,
   "metadata": {},
   "outputs": [],
   "source": [
    "x['Installment rate in percentage of disposable income']=np.where(x['Installment rate in percentage of disposable income']<1.0,1.0,x['Installment rate in percentage of disposable income'])\n",
    "x['Installment rate in percentage of disposable income']=np.where(x['Installment rate in percentage of disposable income']>4.0,4.0,x['Installment rate in percentage of disposable income'])"
   ]
  },
  {
   "cell_type": "code",
   "execution_count": 28,
   "metadata": {},
   "outputs": [
    {
     "name": "stdout",
     "output_type": "stream",
     "text": [
      "1.0\n",
      "4.0\n"
     ]
    }
   ],
   "source": [
    "print(x['Present residence since'].quantile(0.1))\n",
    "print(x['Present residence since'].quantile(0.9))"
   ]
  },
  {
   "cell_type": "code",
   "execution_count": 29,
   "metadata": {},
   "outputs": [],
   "source": [
    "x['Present residence since']=np.where(x['Present residence since']<1.0,1.0,x['Present residence since'])\n",
    "x['Present residence since']=np.where(x['Present residence since']>4.0,4.0,x['Present residence since'])"
   ]
  },
  {
   "cell_type": "code",
   "execution_count": 30,
   "metadata": {},
   "outputs": [
    {
     "name": "stdout",
     "output_type": "stream",
     "text": [
      "1.0\n",
      "2.0\n"
     ]
    }
   ],
   "source": [
    "print(x['Number of existing credits at this bank'].quantile(0.1))\n",
    "print(x['Number of existing credits at this bank'].quantile(0.9))"
   ]
  },
  {
   "cell_type": "code",
   "execution_count": 31,
   "metadata": {},
   "outputs": [],
   "source": [
    "x['Number of existing credits at this bank']=np.where(x['Number of existing credits at this bank']<1.0,1.0,x['Number of existing credits at this bank'])\n",
    "x['Number of existing credits at this bank']=np.where(x['Number of existing credits at this bank']>2.0,2.0,x['Number of existing credits at this bank'])"
   ]
  },
  {
   "cell_type": "code",
   "execution_count": 32,
   "metadata": {},
   "outputs": [
    {
     "name": "stdout",
     "output_type": "stream",
     "text": [
      "1.0\n",
      "2.0\n"
     ]
    }
   ],
   "source": [
    "print(x['Number of people being liable to provide maintenance for'].quantile(0.1))\n",
    "print(x['Number of people being liable to provide maintenance for'].quantile(0.9))"
   ]
  },
  {
   "cell_type": "code",
   "execution_count": 33,
   "metadata": {},
   "outputs": [],
   "source": [
    "x['Number of existing credits at this bank']=np.where(x['Number of people being liable to provide maintenance for']<1.0,1.0,x['Number of people being liable to provide maintenance for'])\n",
    "x['Number of existing credits at this bank']=np.where(x['Number of people being liable to provide maintenance for']>2.0,2.0,x['Number of people being liable to provide maintenance for'])"
   ]
  },
  {
   "cell_type": "code",
   "execution_count": 34,
   "metadata": {},
   "outputs": [
    {
     "data": {
      "image/png": "[encoded data removed]",
      "text/plain": [
       "<Figure size 432x288 with 1 Axes>"
      ]
     },
     "metadata": {
      "needs_background": "light"
     },
     "output_type": "display_data"
    }
   ],
   "source": [
    "# Final dataset after solving problem oulier and multicolinearity\n",
    "ax = sns.boxplot(data=x, orient=\"h\", palette=\"Set2\")"
   ]
  },
  {
   "cell_type": "code",
   "execution_count": 35,
   "metadata": {},
   "outputs": [],
   "source": [
    "# balanced dataset and Normalize the dataset "
   ]
  },
  {
   "cell_type": "code",
   "execution_count": 36,
   "metadata": {},
   "outputs": [
    {
     "data": {
      "text/plain": [
       "1    172\n",
       "2     78\n",
       "Name: Cost Matrix, dtype: int64"
      ]
     },
     "execution_count": 36,
     "metadata": {},
     "output_type": "execute_result"
    }
   ],
   "source": [
    "df['Cost Matrix'].value_counts()"
   ]
  },
  {
   "cell_type": "code",
   "execution_count": 37,
   "metadata": {},
   "outputs": [
    {
     "data": {
      "text/plain": [
       "<matplotlib.axes._subplots.AxesSubplot at 0x23f73ff1c10>"
      ]
     },
     "execution_count": 37,
     "metadata": {},
     "output_type": "execute_result"
    },
    {
     "data": {
      "image/png": "[encoded data removed]",
      "text/plain": [
       "<Figure size 432x288 with 1 Axes>"
      ]
     },
     "metadata": {},
     "output_type": "display_data"
    }
   ],
   "source": [
    "# dataset is imbalanced \n",
    "df['Cost Matrix'].value_counts().plot.pie(autopct='%.2f')"
   ]
  },
  {
   "cell_type": "code",
   "execution_count": 38,
   "metadata": {},
   "outputs": [],
   "source": [
    "y= df['Cost Matrix']"
   ]
  },
  {
   "cell_type": "code",
   "execution_count": 39,
   "metadata": {},
   "outputs": [
    {
     "name": "stdout",
     "output_type": "stream",
     "text": [
      "Requirement already up-to-date: imbalanced-learn in c:\\users\\mohsen\\anaconda3\\lib\\site-packages (0.8.1)\n",
      "Requirement already satisfied, skipping upgrade: joblib>=0.11 in c:\\users\\mohsen\\anaconda3\\lib\\site-packages (from imbalanced-learn) (0.16.0)\n",
      "Requirement already satisfied, skipping upgrade: scikit-learn>=0.24 in c:\\users\\mohsen\\anaconda3\\lib\\site-packages (from imbalanced-learn) (0.24.0)\n",
      "Requirement already satisfied, skipping upgrade: scipy>=0.19.1 in c:\\users\\mohsen\\anaconda3\\lib\\site-packages (from imbalanced-learn) (1.5.0)\n",
      "Requirement already satisfied, skipping upgrade: numpy>=1.13.3 in c:\\users\\mohsen\\anaconda3\\lib\\site-packages (from imbalanced-learn) (1.18.5)\n",
      "Requirement already satisfied, skipping upgrade: threadpoolctl>=2.0.0 in c:\\users\\mohsen\\anaconda3\\lib\\site-packages (from scikit-learn>=0.24->imbalanced-learn) (2.1.0)\n"
     ]
    },
    {
     "data": {
      "image/png": "[encoded data removed]",
      "text/plain": [
       "<Figure size 432x288 with 1 Axes>"
      ]
     },
     "metadata": {},
     "output_type": "display_data"
    }
   ],
   "source": [
    "# import library\n",
    "!pip install -U imbalanced-learn\n",
    "from imblearn.under_sampling import RandomUnderSampler\n",
    "rus = RandomUnderSampler(random_state=42, replacement=True)# fit predictor and target variable\n",
    "X_res,Y_res = rus.fit_resample(x,y)\n",
    "ax= Y_res.value_counts().plot.pie(autopct='%.2f')"
   ]
  },
  {
   "cell_type": "code",
   "execution_count": 40,
   "metadata": {},
   "outputs": [],
   "source": [
    "# Split data set\n",
    "from sklearn.model_selection import train_test_split\n",
    "X_train, X_test, Y_train, Y_test = train_test_split(X_res,Y_res, test_size=0.30, random_state=1)"
   ]
  },
  {
   "cell_type": "code",
   "execution_count": 41,
   "metadata": {},
   "outputs": [],
   "source": [
    "# Normalize data set\n",
    "from sklearn.preprocessing import StandardScaler\n",
    "sc = StandardScaler()\n",
    "X_train = sc.fit_transform(X_train)\n",
    "X_test = sc.transform(X_test)\n"
   ]
  },
  {
   "cell_type": "code",
   "execution_count": 42,
   "metadata": {},
   "outputs": [
    {
     "name": "stdout",
     "output_type": "stream",
     "text": [
      "Mean Absolute Error: 0.3404255319148936\n",
      "Mean Squared Error: 0.3404255319148936\n",
      "Root Mean Squared Error: 0.5834599659915782\n",
      "Accuracy: 0.6595744680851063\n",
      "Precision: 0.64\n",
      "Recall: 0.6956521739130435\n"
     ]
    }
   ],
   "source": [
    "#Random Forests\n",
    "# Feature Scaling\n",
    "from sklearn.ensemble import RandomForestClassifier\n",
    "from sklearn.preprocessing import StandardScaler\n",
    "sc = StandardScaler()\n",
    "X_train = sc.fit_transform(X_train)\n",
    "X_test = sc.transform(X_test)\n",
    "#Create a Gaussian Classifier\n",
    "clf=RandomForestClassifier(n_estimators=100)\n",
    "#Train the model using the training sets y_pred=clf.predict(X_test)\n",
    "model = clf.fit(X_train,Y_train)\n",
    "Y_pred=clf.predict(X_test)\n",
    "Y_test.shape\n",
    "Y_pred.shape\n",
    "#Import scikit-learn metrics module for accuracy calculation\n",
    "#Evaluating the Algorithm\n",
    "from sklearn import metrics\n",
    "import numpy as np\n",
    "print('Mean Absolute Error:', metrics.mean_absolute_error(Y_test, Y_pred))\n",
    "print('Mean Squared Error:', metrics.mean_squared_error(Y_test, Y_pred))\n",
    "print('Root Mean Squared Error:', np.sqrt(metrics.mean_squared_error(Y_test, Y_pred)))\n",
    "# Model Accuracy, how often is the classifier correct?\n",
    "print(\"Accuracy:\",metrics.accuracy_score(Y_test, Y_pred))\n",
    "print(\"Precision:\",metrics.precision_score(Y_test, Y_pred))\n",
    "print(\"Recall:\",metrics.recall_score(Y_test, Y_pred))"
   ]
  },
  {
   "cell_type": "code",
   "execution_count": 43,
   "metadata": {},
   "outputs": [
    {
     "name": "stdout",
     "output_type": "stream",
     "text": [
      "area under curve (auc):  0.6603260869565217\n"
     ]
    }
   ],
   "source": [
    "print(\"area under curve (auc): \", metrics.roc_auc_score(Y_test, Y_pred))"
   ]
  },
  {
   "cell_type": "code",
   "execution_count": 44,
   "metadata": {},
   "outputs": [
    {
     "name": "stdout",
     "output_type": "stream",
     "text": [
      "[[16  7]\n",
      " [ 9 15]]\n",
      "              precision    recall  f1-score   support\n",
      "\n",
      "           1       0.64      0.70      0.67        23\n",
      "           2       0.68      0.62      0.65        24\n",
      "\n",
      "    accuracy                           0.66        47\n",
      "   macro avg       0.66      0.66      0.66        47\n",
      "weighted avg       0.66      0.66      0.66        47\n",
      "\n"
     ]
    }
   ],
   "source": [
    "from sklearn.metrics import classification_report, confusion_matrix\n",
    "print(confusion_matrix(Y_test, Y_pred))\n",
    "print(classification_report(Y_test, Y_pred))"
   ]
  },
  {
   "cell_type": "code",
   "execution_count": 45,
   "metadata": {},
   "outputs": [
    {
     "name": "stdout",
     "output_type": "stream",
     "text": [
      "Accuracy: 0.755 (0.196)\n",
      "Precision:  0.5867857142857142\n",
      "Mean Absolute Error: 0.3404255319148936\n",
      "Mean Squared Error: 0.3404255319148936\n",
      "Root Mean Squared Error: 0.5834599659915782\n",
      "Recall:  0.5867857142857142\n"
     ]
    },
    {
     "data": {
      "text/plain": [
       "array([[16,  7],\n",
       "       [ 9, 15]], dtype=int64)"
      ]
     },
     "execution_count": 45,
     "metadata": {},
     "output_type": "execute_result"
    }
   ],
   "source": [
    "# Evaluate a Random Forest model using k-fold cross-validation\n",
    "# prepare the cross-validation procedure\n",
    "from numpy import mean\n",
    "from numpy import std\n",
    "from sklearn.datasets import make_classification\n",
    "from sklearn.model_selection import KFold\n",
    "from sklearn.model_selection import cross_val_score\n",
    "cv = KFold(n_splits=10, random_state=1, shuffle=True)\n",
    "# Evaluate model\n",
    "scores = cross_val_score(model, X_test, Y_test, scoring='accuracy', cv=cv, n_jobs=-1)\n",
    "# report performance\n",
    "print('Accuracy: %.3f (%.3f)' % (mean(scores), std(scores)))\n",
    "precision = cross_val_score(model, X_train, Y_train, cv=10, scoring='precision')\n",
    "print('Precision: ' , mean(precision))\n",
    "print('Mean Absolute Error:', metrics.mean_absolute_error(Y_test, Y_pred))\n",
    "print('Mean Squared Error:', metrics.mean_squared_error(Y_test, Y_pred))\n",
    "print('Root Mean Squared Error:', np.sqrt(metrics.mean_squared_error(Y_test, Y_pred)))\n",
    "recall = cross_val_score(model, X_train, Y_train, cv=10, scoring='recall')\n",
    "print('Recall: ' , mean(precision))\n",
    "# View confusion matrix for test data and predictions\n",
    "from sklearn.metrics import confusion_matrix\n",
    "confusion_matrix(Y_test, Y_pred)"
   ]
  },
  {
   "cell_type": "code",
   "execution_count": 46,
   "metadata": {},
   "outputs": [
    {
     "name": "stdout",
     "output_type": "stream",
     "text": [
      "AUC: 0.71\n",
      "Precision:  0.5915079365079364\n",
      "Mean Absolute Error: 0.3404255319148936\n",
      "Mean Squared Error: 0.3404255319148936\n",
      "Root Mean Squared Error: 0.5834599659915782\n",
      "Recall:  0.5915079365079364\n"
     ]
    },
    {
     "data": {
      "text/plain": [
       "array([[16,  7],\n",
       "       [ 9, 15]], dtype=int64)"
      ]
     },
     "execution_count": 46,
     "metadata": {},
     "output_type": "execute_result"
    }
   ],
   "source": [
    "# Area under the precision-recall curve\n",
    "from sklearn.metrics import roc_curve\n",
    "from sklearn.metrics import roc_auc_score\n",
    "probs = model.predict_proba(X_test)\n",
    "probs = probs[:, 1]\n",
    "auc = roc_auc_score(Y_test, probs)\n",
    "print('AUC: %.2f' % auc)\n",
    "precision = cross_val_score(model, X_train, Y_train, cv=10, scoring='precision')\n",
    "print('Precision: ' , mean(precision))\n",
    "print('Mean Absolute Error:', metrics.mean_absolute_error(Y_test, Y_pred))\n",
    "print('Mean Squared Error:', metrics.mean_squared_error(Y_test, Y_pred))\n",
    "print('Root Mean Squared Error:', np.sqrt(metrics.mean_squared_error(Y_test, Y_pred)))\n",
    "recall = cross_val_score(model, X_train, Y_train, cv=10, scoring='recall')\n",
    "print('Recall: ' , mean(precision))\n",
    "# View confusion matrix for test data and predictions\n",
    "from sklearn.metrics import confusion_matrix\n",
    "confusion_matrix(Y_test, Y_pred)"
   ]
  },
  {
   "cell_type": "code",
   "execution_count": 47,
   "metadata": {},
   "outputs": [],
   "source": [
    "#K Nearest Neighbor(KNN)\n",
    "#Import knearest neighbors Classifier model\n",
    "from sklearn.neighbors import KNeighborsClassifier\n",
    "#Create KNN Classifier\n",
    "knn = KNeighborsClassifier(n_neighbors=3)\n",
    "#Train the model using the training sets\n",
    "knn.fit(X_train, Y_train)\n",
    "#Predict the response for test dataset\n",
    "Y_pred = knn.predict(X_test)"
   ]
  },
  {
   "cell_type": "code",
   "execution_count": 48,
   "metadata": {},
   "outputs": [
    {
     "name": "stdout",
     "output_type": "stream",
     "text": [
      "Mean Absolute Error: 0.3829787234042553\n",
      "Mean Squared Error: 0.3829787234042553\n",
      "Root Mean Squared Error: 0.618852747755276\n",
      "Accuracy: 0.6170212765957447\n"
     ]
    }
   ],
   "source": [
    "#Import scikit-learn metrics module for accuracy calculation\n",
    "from sklearn import metrics\n",
    "# Model Accuracy, how often is the classifier correct?\n",
    "from sklearn import metrics\n",
    "import numpy as np\n",
    "print('Mean Absolute Error:', metrics.mean_absolute_error(Y_test, Y_pred))\n",
    "print('Mean Squared Error:', metrics.mean_squared_error(Y_test, Y_pred))\n",
    "print('Root Mean Squared Error:', np.sqrt(metrics.mean_squared_error(Y_test, Y_pred)))\n",
    "print(\"Accuracy:\",metrics.accuracy_score(Y_test, Y_pred))"
   ]
  },
  {
   "cell_type": "code",
   "execution_count": 49,
   "metadata": {},
   "outputs": [
    {
     "name": "stdout",
     "output_type": "stream",
     "text": [
      "[[16  7]\n",
      " [11 13]]\n",
      "              precision    recall  f1-score   support\n",
      "\n",
      "           1       0.59      0.70      0.64        23\n",
      "           2       0.65      0.54      0.59        24\n",
      "\n",
      "    accuracy                           0.62        47\n",
      "   macro avg       0.62      0.62      0.62        47\n",
      "weighted avg       0.62      0.62      0.61        47\n",
      "\n",
      "area under curve (auc):  0.618659420289855\n"
     ]
    }
   ],
   "source": [
    "print(confusion_matrix(Y_test, Y_pred))\n",
    "print(classification_report(Y_test, Y_pred))\n",
    "print(\"area under curve (auc): \", metrics.roc_auc_score(Y_test, Y_pred))"
   ]
  },
  {
   "cell_type": "code",
   "execution_count": 50,
   "metadata": {},
   "outputs": [
    {
     "name": "stdout",
     "output_type": "stream",
     "text": [
      "[0.27272727 0.63636364 0.72727273 0.45454545 0.36363636 0.54545455\n",
      " 0.45454545 0.54545455 0.45454545 0.6       ]\n",
      "Accuracy 0.5054545454545454\n"
     ]
    }
   ],
   "source": [
    "# import k-folder\n",
    "from sklearn.model_selection import cross_val_score\n",
    "# use the same model as before\n",
    "knn = KNeighborsClassifier(n_neighbors = 3)\n",
    "# X,y will automatically devided by 3 folder, the scoring I will still use the accuracy\n",
    "scores = cross_val_score(knn, X_train, Y_train, cv=10, scoring='accuracy')\n",
    "# print all 5 times scores \n",
    "print(scores)\n",
    "# then I will do the average about these five scores to get more accuracy score.\n",
    "print('Accuracy',scores.mean())"
   ]
  },
  {
   "cell_type": "code",
   "execution_count": 51,
   "metadata": {},
   "outputs": [
    {
     "name": "stdout",
     "output_type": "stream",
     "text": [
      "AUC: 0.88\n"
     ]
    }
   ],
   "source": [
    "#Area under the precision-recall curve\n",
    "from sklearn.metrics import roc_curve\n",
    "from sklearn.metrics import roc_auc_score\n",
    "probs = model.predict_proba(X_test)\n",
    "probs = probs[:, 1]\n",
    "auc = roc_auc_score(Y_pred, probs)\n",
    "print('AUC: %.2f' % auc)"
   ]
  },
  {
   "cell_type": "code",
   "execution_count": 52,
   "metadata": {},
   "outputs": [
    {
     "name": "stdout",
     "output_type": "stream",
     "text": [
      "Accuracy: 0.6170212765957447\n",
      "Accuracy: 0.6170212765957447\n",
      "Precision: 0.631578947368421\n",
      "Recall: 0.5217391304347826\n"
     ]
    }
   ],
   "source": [
    "## Create Decision Tree classifer object\n",
    "from sklearn.tree import DecisionTreeClassifier # Import Decision Tree Classifier\n",
    "clf = DecisionTreeClassifier(criterion=\"entropy\", max_depth=3)\n",
    "# Train Decision Tree Classifer\n",
    "clf = clf.fit(X_train,Y_train)\n",
    "#Predict the response for test dataset\n",
    "Y_pred = clf.predict(X_test)\n",
    "# Model Accuracy, how often is the classifier correct?\n",
    "print(\"Accuracy:\",metrics.accuracy_score(Y_test, Y_pred))\n",
    "print(\"Precision:\",metrics.precision_score(Y_test, Y_pred))\n",
    "print(\"Recall:\",metrics.recall_score(Y_test, Y_pred))"
   ]
  },
  {
   "cell_type": "code",
   "execution_count": 53,
   "metadata": {},
   "outputs": [
    {
     "name": "stdout",
     "output_type": "stream",
     "text": [
      "[[12 11]\n",
      " [ 7 17]]\n",
      "              precision    recall  f1-score   support\n",
      "\n",
      "           1       0.63      0.52      0.57        23\n",
      "           2       0.61      0.71      0.65        24\n",
      "\n",
      "    accuracy                           0.62        47\n",
      "   macro avg       0.62      0.62      0.61        47\n",
      "weighted avg       0.62      0.62      0.61        47\n",
      "\n"
     ]
    }
   ],
   "source": [
    "print(confusion_matrix(Y_test, Y_pred))\n",
    "print(classification_report(Y_test, Y_pred))"
   ]
  },
  {
   "cell_type": "code",
   "execution_count": 54,
   "metadata": {},
   "outputs": [
    {
     "name": "stdout",
     "output_type": "stream",
     "text": [
      "[0.45454545 0.63636364 0.81818182 0.54545455 0.36363636 0.54545455\n",
      " 0.63636364 0.72727273 0.45454545 0.3       ]\n",
      "Accuracy 0.5481818181818181\n"
     ]
    }
   ],
   "source": [
    "# Accuracy and Cross validation\n",
    "from sklearn.model_selection import cross_val_score\n",
    "# use the same model as before\n",
    "clf = clf.fit(X_train,Y_train)\n",
    "# X,y will automatically devided by 3 folder, the scoring I will still use the accuracy\n",
    "scores = cross_val_score(clf, X_train, Y_train, cv=10, scoring='accuracy')\n",
    "# print all 5 times scores \n",
    "print(scores)\n",
    "# then I will do the average about these five scores to get more accuracy score.\n",
    "print('Accuracy',scores.mean())\n"
   ]
  },
  {
   "cell_type": "code",
   "execution_count": 55,
   "metadata": {},
   "outputs": [
    {
     "name": "stdout",
     "output_type": "stream",
     "text": [
      "AUC: 0.77\n"
     ]
    }
   ],
   "source": [
    "# Area under the precision-recall curve\n",
    "from sklearn.metrics import roc_curve\n",
    "from sklearn.metrics import roc_auc_score\n",
    "probs = model.predict_proba(X_test)\n",
    "probs = probs[:, 1]\n",
    "auc = roc_auc_score(Y_pred, probs)\n",
    "print('AUC: %.2f' % auc)"
   ]
  },
  {
   "cell_type": "code",
   "execution_count": 56,
   "metadata": {},
   "outputs": [
    {
     "data": {
      "text/plain": [
       "[Text(167.40000000000003, 190.26, 'X[0] <= -0.482\\nentropy = 1.0\\nsamples = 109\\nvalue = [55, 54]'),\n",
       " Text(100.44000000000001, 135.9, 'X[0] <= -0.67\\nentropy = 0.903\\nsamples = 47\\nvalue = [32, 15]'),\n",
       " Text(66.96000000000001, 81.53999999999999, 'X[1] <= -1.334\\nentropy = 0.974\\nsamples = 37\\nvalue = [22, 15]'),\n",
       " Text(33.480000000000004, 27.180000000000007, 'entropy = 0.811\\nsamples = 4\\nvalue = [1, 3]'),\n",
       " Text(100.44000000000001, 27.180000000000007, 'entropy = 0.946\\nsamples = 33\\nvalue = [21, 12]'),\n",
       " Text(133.92000000000002, 81.53999999999999, 'entropy = 0.0\\nsamples = 10\\nvalue = [10, 0]'),\n",
       " Text(234.36, 135.9, 'X[0] <= -0.417\\nentropy = 0.951\\nsamples = 62\\nvalue = [23, 39]'),\n",
       " Text(200.88000000000002, 81.53999999999999, 'entropy = 0.0\\nsamples = 4\\nvalue = [0, 4]'),\n",
       " Text(267.84000000000003, 81.53999999999999, 'X[0] <= -0.378\\nentropy = 0.969\\nsamples = 58\\nvalue = [23, 35]'),\n",
       " Text(234.36, 27.180000000000007, 'entropy = 0.0\\nsamples = 4\\nvalue = [4, 0]'),\n",
       " Text(301.32000000000005, 27.180000000000007, 'entropy = 0.936\\nsamples = 54\\nvalue = [19, 35]')]"
      ]
     },
     "execution_count": 56,
     "metadata": {},
     "output_type": "execute_result"
    },
    {
     "data": {
      "image/png": "[encoded data removed]",
      "text/plain": [
       "<Figure size 432x288 with 1 Axes>"
      ]
     },
     "metadata": {
      "needs_background": "light"
     },
     "output_type": "display_data"
    }
   ],
   "source": [
    "from sklearn import tree\n",
    "tree.plot_tree(clf)"
   ]
  },
  {
   "cell_type": "code",
   "execution_count": 57,
   "metadata": {},
   "outputs": [
    {
     "data": {
      "image/svg+xml": [
       "<?xml version=\"1.0\" encoding=\"UTF-8\" standalone=\"no\"?>\r\n",
       "<!DOCTYPE svg PUBLIC \"-//W3C//DTD SVG 1.1//EN\"\r\n",
       " \"http://www.w3.org/Graphics/SVG/1.1/DTD/svg11.dtd\">\r\n",
       "<!-- Generated by graphviz version 2.48.0 (20210717.1556)\r\n",
       " -->\r\n",
       "<!-- Title: Tree Pages: 1 -->\r\n",
       "<svg width=\"896pt\" height=\"433pt\"\r\n",
       " viewBox=\"0.00 0.00 895.50 433.00\" xmlns=\"http://www.w3.org/2000/svg\" xmlns:xlink=\"http://www.w3.org/1999/xlink\">\r\n",
       "<g id=\"graph0\" class=\"graph\" transform=\"scale(1 1) rotate(0) translate(4 429)\">\r\n",
       "<title>Tree</title>\r\n",
       "<polygon fill=\"white\" stroke=\"transparent\" points=\"-4,4 -4,-429 891.5,-429 891.5,4 -4,4\"/>\r\n",
       "<!-- 0 -->\r\n",
       "<g id=\"node1\" class=\"node\">\r\n",
       "<title>0</title>\r\n",
       "<path fill=\"#fffdfb\" stroke=\"black\" d=\"M611,-425C611,-425 474,-425 474,-425 468,-425 462,-419 462,-413 462,-413 462,-354 462,-354 462,-348 468,-342 474,-342 474,-342 611,-342 611,-342 617,-342 623,-348 623,-354 623,-354 623,-413 623,-413 623,-419 617,-425 611,-425\"/>\r\n",
       "<text text-anchor=\"start\" x=\"470\" y=\"-409.8\" font-family=\"Helvetica,sans-Serif\" font-size=\"14.00\">Credit amount ≤ &#45;0.482</text>\r\n",
       "<text text-anchor=\"start\" x=\"500.5\" y=\"-394.8\" font-family=\"Helvetica,sans-Serif\" font-size=\"14.00\">entropy = 1.0</text>\r\n",
       "<text text-anchor=\"start\" x=\"495\" y=\"-379.8\" font-family=\"Helvetica,sans-Serif\" font-size=\"14.00\">samples = 109</text>\r\n",
       "<text text-anchor=\"start\" x=\"494\" y=\"-364.8\" font-family=\"Helvetica,sans-Serif\" font-size=\"14.00\">value = [55, 54]</text>\r\n",
       "<text text-anchor=\"start\" x=\"512.5\" y=\"-349.8\" font-family=\"Helvetica,sans-Serif\" font-size=\"14.00\">class = C</text>\r\n",
       "</g>\r\n",
       "<!-- 1 -->\r\n",
       "<g id=\"node2\" class=\"node\">\r\n",
       "<title>1</title>\r\n",
       "<path fill=\"#f1bc96\" stroke=\"black\" d=\"M520,-306C520,-306 391,-306 391,-306 385,-306 379,-300 379,-294 379,-294 379,-235 379,-235 379,-229 385,-223 391,-223 391,-223 520,-223 520,-223 526,-223 532,-229 532,-235 532,-235 532,-294 532,-294 532,-300 526,-306 520,-306\"/>\r\n",
       "<text text-anchor=\"start\" x=\"387\" y=\"-290.8\" font-family=\"Helvetica,sans-Serif\" font-size=\"14.00\">Credit amount ≤ &#45;0.67</text>\r\n",
       "<text text-anchor=\"start\" x=\"405.5\" y=\"-275.8\" font-family=\"Helvetica,sans-Serif\" font-size=\"14.00\">entropy = 0.903</text>\r\n",
       "<text text-anchor=\"start\" x=\"412\" y=\"-260.8\" font-family=\"Helvetica,sans-Serif\" font-size=\"14.00\">samples = 47</text>\r\n",
       "<text text-anchor=\"start\" x=\"407\" y=\"-245.8\" font-family=\"Helvetica,sans-Serif\" font-size=\"14.00\">value = [32, 15]</text>\r\n",
       "<text text-anchor=\"start\" x=\"425.5\" y=\"-230.8\" font-family=\"Helvetica,sans-Serif\" font-size=\"14.00\">class = C</text>\r\n",
       "</g>\r\n",
       "<!-- 0&#45;&gt;1 -->\r\n",
       "<g id=\"edge1\" class=\"edge\">\r\n",
       "<title>0&#45;&gt;1</title>\r\n",
       "<path fill=\"none\" stroke=\"black\" d=\"M512.32,-341.91C505.64,-332.92 498.49,-323.32 491.6,-314.05\"/>\r\n",
       "<polygon fill=\"black\" stroke=\"black\" points=\"494.41,-311.96 485.63,-306.02 488.79,-316.13 494.41,-311.96\"/>\r\n",
       "<text text-anchor=\"middle\" x=\"481.99\" y=\"-327.05\" font-family=\"Helvetica,sans-Serif\" font-size=\"14.00\">True</text>\r\n",
       "</g>\r\n",
       "<!-- 6 -->\r\n",
       "<g id=\"node7\" class=\"node\">\r\n",
       "<title>6</title>\r\n",
       "<path fill=\"#aed7f4\" stroke=\"black\" d=\"M699,-306C699,-306 562,-306 562,-306 556,-306 550,-300 550,-294 550,-294 550,-235 550,-235 550,-229 556,-223 562,-223 562,-223 699,-223 699,-223 705,-223 711,-229 711,-235 711,-235 711,-294 711,-294 711,-300 705,-306 699,-306\"/>\r\n",
       "<text text-anchor=\"start\" x=\"558\" y=\"-290.8\" font-family=\"Helvetica,sans-Serif\" font-size=\"14.00\">Credit amount ≤ &#45;0.417</text>\r\n",
       "<text text-anchor=\"start\" x=\"580.5\" y=\"-275.8\" font-family=\"Helvetica,sans-Serif\" font-size=\"14.00\">entropy = 0.951</text>\r\n",
       "<text text-anchor=\"start\" x=\"587\" y=\"-260.8\" font-family=\"Helvetica,sans-Serif\" font-size=\"14.00\">samples = 62</text>\r\n",
       "<text text-anchor=\"start\" x=\"582\" y=\"-245.8\" font-family=\"Helvetica,sans-Serif\" font-size=\"14.00\">value = [23, 39]</text>\r\n",
       "<text text-anchor=\"start\" x=\"601.5\" y=\"-230.8\" font-family=\"Helvetica,sans-Serif\" font-size=\"14.00\">class = o</text>\r\n",
       "</g>\r\n",
       "<!-- 0&#45;&gt;6 -->\r\n",
       "<g id=\"edge6\" class=\"edge\">\r\n",
       "<title>0&#45;&gt;6</title>\r\n",
       "<path fill=\"none\" stroke=\"black\" d=\"M573.03,-341.91C579.79,-332.92 587.02,-323.32 593.98,-314.05\"/>\r\n",
       "<polygon fill=\"black\" stroke=\"black\" points=\"596.81,-316.12 600.02,-306.02 591.21,-311.91 596.81,-316.12\"/>\r\n",
       "<text text-anchor=\"middle\" x=\"603.52\" y=\"-327.07\" font-family=\"Helvetica,sans-Serif\" font-size=\"14.00\">False</text>\r\n",
       "</g>\r\n",
       "<!-- 2 -->\r\n",
       "<g id=\"node3\" class=\"node\">\r\n",
       "<title>2</title>\r\n",
       "<path fill=\"#f7d7c0\" stroke=\"black\" d=\"M387,-187C387,-187 12,-187 12,-187 6,-187 0,-181 0,-175 0,-175 0,-116 0,-116 0,-110 6,-104 12,-104 12,-104 387,-104 387,-104 393,-104 399,-110 399,-116 399,-116 399,-175 399,-175 399,-181 393,-187 387,-187\"/>\r\n",
       "<text text-anchor=\"start\" x=\"8\" y=\"-171.8\" font-family=\"Helvetica,sans-Serif\" font-size=\"14.00\">Installment rate in percentage of disposable income ≤ &#45;1.334</text>\r\n",
       "<text text-anchor=\"start\" x=\"149.5\" y=\"-156.8\" font-family=\"Helvetica,sans-Serif\" font-size=\"14.00\">entropy = 0.974</text>\r\n",
       "<text text-anchor=\"start\" x=\"156\" y=\"-141.8\" font-family=\"Helvetica,sans-Serif\" font-size=\"14.00\">samples = 37</text>\r\n",
       "<text text-anchor=\"start\" x=\"151\" y=\"-126.8\" font-family=\"Helvetica,sans-Serif\" font-size=\"14.00\">value = [22, 15]</text>\r\n",
       "<text text-anchor=\"start\" x=\"169.5\" y=\"-111.8\" font-family=\"Helvetica,sans-Serif\" font-size=\"14.00\">class = C</text>\r\n",
       "</g>\r\n",
       "<!-- 1&#45;&gt;2 -->\r\n",
       "<g id=\"edge2\" class=\"edge\">\r\n",
       "<title>1&#45;&gt;2</title>\r\n",
       "<path fill=\"none\" stroke=\"black\" d=\"M378.69,-228.4C353.26,-216.78 324.61,-203.68 297.8,-191.43\"/>\r\n",
       "<polygon fill=\"black\" stroke=\"black\" points=\"298.95,-188.1 288.4,-187.13 296.04,-194.47 298.95,-188.1\"/>\r\n",
       "</g>\r\n",
       "<!-- 5 -->\r\n",
       "<g id=\"node6\" class=\"node\">\r\n",
       "<title>5</title>\r\n",
       "<path fill=\"#e58139\" stroke=\"black\" d=\"M510,-179.5C510,-179.5 429,-179.5 429,-179.5 423,-179.5 417,-173.5 417,-167.5 417,-167.5 417,-123.5 417,-123.5 417,-117.5 423,-111.5 429,-111.5 429,-111.5 510,-111.5 510,-111.5 516,-111.5 522,-117.5 522,-123.5 522,-123.5 522,-167.5 522,-167.5 522,-173.5 516,-179.5 510,-179.5\"/>\r\n",
       "<text text-anchor=\"start\" x=\"427.5\" y=\"-164.3\" font-family=\"Helvetica,sans-Serif\" font-size=\"14.00\">entropy = 0.0</text>\r\n",
       "<text text-anchor=\"start\" x=\"426\" y=\"-149.3\" font-family=\"Helvetica,sans-Serif\" font-size=\"14.00\">samples = 10</text>\r\n",
       "<text text-anchor=\"start\" x=\"425\" y=\"-134.3\" font-family=\"Helvetica,sans-Serif\" font-size=\"14.00\">value = [10, 0]</text>\r\n",
       "<text text-anchor=\"start\" x=\"439.5\" y=\"-119.3\" font-family=\"Helvetica,sans-Serif\" font-size=\"14.00\">class = C</text>\r\n",
       "</g>\r\n",
       "<!-- 1&#45;&gt;5 -->\r\n",
       "<g id=\"edge5\" class=\"edge\">\r\n",
       "<title>1&#45;&gt;5</title>\r\n",
       "<path fill=\"none\" stroke=\"black\" d=\"M460.36,-222.91C461.64,-212.2 463.02,-200.62 464.32,-189.78\"/>\r\n",
       "<polygon fill=\"black\" stroke=\"black\" points=\"467.82,-190.01 465.53,-179.67 460.87,-189.18 467.82,-190.01\"/>\r\n",
       "</g>\r\n",
       "<!-- 3 -->\r\n",
       "<g id=\"node4\" class=\"node\">\r\n",
       "<title>3</title>\r\n",
       "<path fill=\"#7bbeee\" stroke=\"black\" d=\"M178.5,-68C178.5,-68 86.5,-68 86.5,-68 80.5,-68 74.5,-62 74.5,-56 74.5,-56 74.5,-12 74.5,-12 74.5,-6 80.5,0 86.5,0 86.5,0 178.5,0 178.5,0 184.5,0 190.5,-6 190.5,-12 190.5,-12 190.5,-56 190.5,-56 190.5,-62 184.5,-68 178.5,-68\"/>\r\n",
       "<text text-anchor=\"start\" x=\"82.5\" y=\"-52.8\" font-family=\"Helvetica,sans-Serif\" font-size=\"14.00\">entropy = 0.811</text>\r\n",
       "<text text-anchor=\"start\" x=\"93\" y=\"-37.8\" font-family=\"Helvetica,sans-Serif\" font-size=\"14.00\">samples = 4</text>\r\n",
       "<text text-anchor=\"start\" x=\"92\" y=\"-22.8\" font-family=\"Helvetica,sans-Serif\" font-size=\"14.00\">value = [1, 3]</text>\r\n",
       "<text text-anchor=\"start\" x=\"103.5\" y=\"-7.8\" font-family=\"Helvetica,sans-Serif\" font-size=\"14.00\">class = o</text>\r\n",
       "</g>\r\n",
       "<!-- 2&#45;&gt;3 -->\r\n",
       "<g id=\"edge3\" class=\"edge\">\r\n",
       "<title>2&#45;&gt;3</title>\r\n",
       "<path fill=\"none\" stroke=\"black\" d=\"M174.55,-103.73C169.19,-94.97 163.52,-85.7 158.14,-76.91\"/>\r\n",
       "<polygon fill=\"black\" stroke=\"black\" points=\"161.08,-75 152.88,-68.3 155.11,-78.66 161.08,-75\"/>\r\n",
       "</g>\r\n",
       "<!-- 4 -->\r\n",
       "<g id=\"node5\" class=\"node\">\r\n",
       "<title>4</title>\r\n",
       "<path fill=\"#f4c9aa\" stroke=\"black\" d=\"M312.5,-68C312.5,-68 220.5,-68 220.5,-68 214.5,-68 208.5,-62 208.5,-56 208.5,-56 208.5,-12 208.5,-12 208.5,-6 214.5,0 220.5,0 220.5,0 312.5,0 312.5,0 318.5,0 324.5,-6 324.5,-12 324.5,-12 324.5,-56 324.5,-56 324.5,-62 318.5,-68 312.5,-68\"/>\r\n",
       "<text text-anchor=\"start\" x=\"216.5\" y=\"-52.8\" font-family=\"Helvetica,sans-Serif\" font-size=\"14.00\">entropy = 0.946</text>\r\n",
       "<text text-anchor=\"start\" x=\"223\" y=\"-37.8\" font-family=\"Helvetica,sans-Serif\" font-size=\"14.00\">samples = 33</text>\r\n",
       "<text text-anchor=\"start\" x=\"218\" y=\"-22.8\" font-family=\"Helvetica,sans-Serif\" font-size=\"14.00\">value = [21, 12]</text>\r\n",
       "<text text-anchor=\"start\" x=\"236.5\" y=\"-7.8\" font-family=\"Helvetica,sans-Serif\" font-size=\"14.00\">class = C</text>\r\n",
       "</g>\r\n",
       "<!-- 2&#45;&gt;4 -->\r\n",
       "<g id=\"edge4\" class=\"edge\">\r\n",
       "<title>2&#45;&gt;4</title>\r\n",
       "<path fill=\"none\" stroke=\"black\" d=\"M224.45,-103.73C229.81,-94.97 235.48,-85.7 240.86,-76.91\"/>\r\n",
       "<polygon fill=\"black\" stroke=\"black\" points=\"243.89,-78.66 246.12,-68.3 237.92,-75 243.89,-78.66\"/>\r\n",
       "</g>\r\n",
       "<!-- 7 -->\r\n",
       "<g id=\"node8\" class=\"node\">\r\n",
       "<title>7</title>\r\n",
       "<path fill=\"#399de5\" stroke=\"black\" d=\"M655.5,-179.5C655.5,-179.5 579.5,-179.5 579.5,-179.5 573.5,-179.5 567.5,-173.5 567.5,-167.5 567.5,-167.5 567.5,-123.5 567.5,-123.5 567.5,-117.5 573.5,-111.5 579.5,-111.5 579.5,-111.5 655.5,-111.5 655.5,-111.5 661.5,-111.5 667.5,-117.5 667.5,-123.5 667.5,-123.5 667.5,-167.5 667.5,-167.5 667.5,-173.5 661.5,-179.5 655.5,-179.5\"/>\r\n",
       "<text text-anchor=\"start\" x=\"575.5\" y=\"-164.3\" font-family=\"Helvetica,sans-Serif\" font-size=\"14.00\">entropy = 0.0</text>\r\n",
       "<text text-anchor=\"start\" x=\"578\" y=\"-149.3\" font-family=\"Helvetica,sans-Serif\" font-size=\"14.00\">samples = 4</text>\r\n",
       "<text text-anchor=\"start\" x=\"577\" y=\"-134.3\" font-family=\"Helvetica,sans-Serif\" font-size=\"14.00\">value = [0, 4]</text>\r\n",
       "<text text-anchor=\"start\" x=\"588.5\" y=\"-119.3\" font-family=\"Helvetica,sans-Serif\" font-size=\"14.00\">class = o</text>\r\n",
       "</g>\r\n",
       "<!-- 6&#45;&gt;7 -->\r\n",
       "<g id=\"edge7\" class=\"edge\">\r\n",
       "<title>6&#45;&gt;7</title>\r\n",
       "<path fill=\"none\" stroke=\"black\" d=\"M625.99,-222.91C624.8,-212.2 623.51,-200.62 622.31,-189.78\"/>\r\n",
       "<polygon fill=\"black\" stroke=\"black\" points=\"625.77,-189.22 621.19,-179.67 618.81,-189.99 625.77,-189.22\"/>\r\n",
       "</g>\r\n",
       "<!-- 8 -->\r\n",
       "<g id=\"node9\" class=\"node\">\r\n",
       "<title>8</title>\r\n",
       "<path fill=\"#bbddf6\" stroke=\"black\" d=\"M835,-187C835,-187 698,-187 698,-187 692,-187 686,-181 686,-175 686,-175 686,-116 686,-116 686,-110 692,-104 698,-104 698,-104 835,-104 835,-104 841,-104 847,-110 847,-116 847,-116 847,-175 847,-175 847,-181 841,-187 835,-187\"/>\r\n",
       "<text text-anchor=\"start\" x=\"694\" y=\"-171.8\" font-family=\"Helvetica,sans-Serif\" font-size=\"14.00\">Credit amount ≤ &#45;0.378</text>\r\n",
       "<text text-anchor=\"start\" x=\"716.5\" y=\"-156.8\" font-family=\"Helvetica,sans-Serif\" font-size=\"14.00\">entropy = 0.969</text>\r\n",
       "<text text-anchor=\"start\" x=\"723\" y=\"-141.8\" font-family=\"Helvetica,sans-Serif\" font-size=\"14.00\">samples = 58</text>\r\n",
       "<text text-anchor=\"start\" x=\"718\" y=\"-126.8\" font-family=\"Helvetica,sans-Serif\" font-size=\"14.00\">value = [23, 35]</text>\r\n",
       "<text text-anchor=\"start\" x=\"737.5\" y=\"-111.8\" font-family=\"Helvetica,sans-Serif\" font-size=\"14.00\">class = o</text>\r\n",
       "</g>\r\n",
       "<!-- 6&#45;&gt;8 -->\r\n",
       "<g id=\"edge8\" class=\"edge\">\r\n",
       "<title>6&#45;&gt;8</title>\r\n",
       "<path fill=\"none\" stroke=\"black\" d=\"M677.68,-222.91C688.66,-213.47 700.43,-203.34 711.69,-193.65\"/>\r\n",
       "<polygon fill=\"black\" stroke=\"black\" points=\"714.1,-196.2 719.4,-187.02 709.54,-190.89 714.1,-196.2\"/>\r\n",
       "</g>\r\n",
       "<!-- 9 -->\r\n",
       "<g id=\"node10\" class=\"node\">\r\n",
       "<title>9</title>\r\n",
       "<path fill=\"#e58139\" stroke=\"black\" d=\"M741.5,-68C741.5,-68 665.5,-68 665.5,-68 659.5,-68 653.5,-62 653.5,-56 653.5,-56 653.5,-12 653.5,-12 653.5,-6 659.5,0 665.5,0 665.5,0 741.5,0 741.5,0 747.5,0 753.5,-6 753.5,-12 753.5,-12 753.5,-56 753.5,-56 753.5,-62 747.5,-68 741.5,-68\"/>\r\n",
       "<text text-anchor=\"start\" x=\"661.5\" y=\"-52.8\" font-family=\"Helvetica,sans-Serif\" font-size=\"14.00\">entropy = 0.0</text>\r\n",
       "<text text-anchor=\"start\" x=\"664\" y=\"-37.8\" font-family=\"Helvetica,sans-Serif\" font-size=\"14.00\">samples = 4</text>\r\n",
       "<text text-anchor=\"start\" x=\"663\" y=\"-22.8\" font-family=\"Helvetica,sans-Serif\" font-size=\"14.00\">value = [4, 0]</text>\r\n",
       "<text text-anchor=\"start\" x=\"673.5\" y=\"-7.8\" font-family=\"Helvetica,sans-Serif\" font-size=\"14.00\">class = C</text>\r\n",
       "</g>\r\n",
       "<!-- 8&#45;&gt;9 -->\r\n",
       "<g id=\"edge9\" class=\"edge\">\r\n",
       "<title>8&#45;&gt;9</title>\r\n",
       "<path fill=\"none\" stroke=\"black\" d=\"M743.04,-103.73C738.06,-95.06 732.78,-85.9 727.77,-77.18\"/>\r\n",
       "<polygon fill=\"black\" stroke=\"black\" points=\"730.68,-75.22 722.66,-68.3 724.61,-78.71 730.68,-75.22\"/>\r\n",
       "</g>\r\n",
       "<!-- 10 -->\r\n",
       "<g id=\"node11\" class=\"node\">\r\n",
       "<title>10</title>\r\n",
       "<path fill=\"#a4d2f3\" stroke=\"black\" d=\"M875.5,-68C875.5,-68 783.5,-68 783.5,-68 777.5,-68 771.5,-62 771.5,-56 771.5,-56 771.5,-12 771.5,-12 771.5,-6 777.5,0 783.5,0 783.5,0 875.5,0 875.5,0 881.5,0 887.5,-6 887.5,-12 887.5,-12 887.5,-56 887.5,-56 887.5,-62 881.5,-68 875.5,-68\"/>\r\n",
       "<text text-anchor=\"start\" x=\"779.5\" y=\"-52.8\" font-family=\"Helvetica,sans-Serif\" font-size=\"14.00\">entropy = 0.936</text>\r\n",
       "<text text-anchor=\"start\" x=\"786\" y=\"-37.8\" font-family=\"Helvetica,sans-Serif\" font-size=\"14.00\">samples = 54</text>\r\n",
       "<text text-anchor=\"start\" x=\"781\" y=\"-22.8\" font-family=\"Helvetica,sans-Serif\" font-size=\"14.00\">value = [19, 35]</text>\r\n",
       "<text text-anchor=\"start\" x=\"800.5\" y=\"-7.8\" font-family=\"Helvetica,sans-Serif\" font-size=\"14.00\">class = o</text>\r\n",
       "</g>\r\n",
       "<!-- 8&#45;&gt;10 -->\r\n",
       "<g id=\"edge10\" class=\"edge\">\r\n",
       "<title>8&#45;&gt;10</title>\r\n",
       "<path fill=\"none\" stroke=\"black\" d=\"M789.96,-103.73C794.94,-95.06 800.22,-85.9 805.23,-77.18\"/>\r\n",
       "<polygon fill=\"black\" stroke=\"black\" points=\"808.39,-78.71 810.34,-68.3 802.32,-75.22 808.39,-78.71\"/>\r\n",
       "</g>\r\n",
       "</g>\r\n",
       "</svg>\r\n"
      ],
      "text/plain": [
       "<graphviz.files.Source at 0x23f73ce9340>"
      ]
     },
     "execution_count": 57,
     "metadata": {},
     "output_type": "execute_result"
    }
   ],
   "source": [
    "from sklearn.tree import export_graphviz\n",
    "import graphviz\n",
    "dot_data = tree.export_graphviz(clf, out_file=None, \n",
    "                      feature_names = ['Credit amount',\n",
    "                                    'Installment rate in percentage of disposable income',\n",
    "                                    'Present residence since',\n",
    "                                    'Number of existing credits at this bank',\n",
    "                                    'Number of people being liable to provide maintenance for'\n",
    "                                   ],class_names='Cost Matrix',  \n",
    "                      filled=True, rounded=True,  special_characters=True)  \n",
    "graph = graphviz.Source(dot_data)\n",
    "graph"
   ]
  },
  {
   "cell_type": "code",
   "execution_count": 58,
   "metadata": {},
   "outputs": [
    {
     "data": {
      "text/plain": [
       "SVC(degree=8, kernel='poly')"
      ]
     },
     "execution_count": 58,
     "metadata": {},
     "output_type": "execute_result"
    }
   ],
   "source": [
    "#Support Vector Machine\n",
    "Y_train=Y_train.astype(float)\n",
    "from sklearn.svm import SVC\n",
    "svclassifier = SVC(kernel='poly', degree=8)\n",
    "svclassifier.fit(X_train, Y_train)"
   ]
  },
  {
   "cell_type": "code",
   "execution_count": 59,
   "metadata": {},
   "outputs": [],
   "source": [
    "from sklearn import svm\n",
    "clf_svm = svm.LinearSVC(random_state=7)\n",
    "model = clf_svm.fit(X_train, Y_train)  \n",
    "Y_pred=clf_svm.predict(X_train)\n",
    "Y_pred = svclassifier.predict(X_test)"
   ]
  },
  {
   "cell_type": "code",
   "execution_count": 60,
   "metadata": {},
   "outputs": [
    {
     "name": "stdout",
     "output_type": "stream",
     "text": [
      "[[19  4]\n",
      " [19  5]]\n",
      "              precision    recall  f1-score   support\n",
      "\n",
      "           1       0.50      0.83      0.62        23\n",
      "           2       0.56      0.21      0.30        24\n",
      "\n",
      "    accuracy                           0.51        47\n",
      "   macro avg       0.53      0.52      0.46        47\n",
      "weighted avg       0.53      0.51      0.46        47\n",
      "\n"
     ]
    }
   ],
   "source": [
    "from sklearn.metrics import classification_report, confusion_matrix\n",
    "print(confusion_matrix(Y_test,Y_pred))\n",
    "print(classification_report(Y_test,Y_pred))"
   ]
  },
  {
   "cell_type": "code",
   "execution_count": 61,
   "metadata": {},
   "outputs": [
    {
     "name": "stdout",
     "output_type": "stream",
     "text": [
      "Accuracy: 0.5106382978723404\n",
      "Precision: 0.5\n",
      "Recall: 0.8260869565217391\n"
     ]
    }
   ],
   "source": [
    "print(\"Accuracy:\",metrics.accuracy_score(Y_test, Y_pred))\n",
    "print(\"Precision:\",metrics.precision_score(Y_test, Y_pred))\n",
    "print(\"Recall:\",metrics.recall_score(Y_test, Y_pred))"
   ]
  },
  {
   "cell_type": "code",
   "execution_count": 62,
   "metadata": {},
   "outputs": [
    {
     "name": "stdout",
     "output_type": "stream",
     "text": [
      "Accuracy: 0.530 (0.206)\n",
      "Precision: 0.5\n",
      "Recall: 0.8260869565217391\n",
      "area under curve (auc):  0.5172101449275363\n"
     ]
    }
   ],
   "source": [
    "# Accuracy with Cross validation for SVM \n",
    "from numpy import mean\n",
    "from numpy import std\n",
    "from sklearn.datasets import make_classification\n",
    "from sklearn.model_selection import KFold\n",
    "from sklearn.model_selection import cross_val_score\n",
    "from sklearn.linear_model import LogisticRegression\n",
    "# prepare the cross-validation procedure\n",
    "cv = KFold(n_splits=10, random_state=1, shuffle=True)\n",
    "# create model\n",
    "# Instantiate the Support Vector Classifier (SVC)\n",
    "svc = SVC(C=1.0, random_state=1, kernel='linear')\n",
    "model = svc.fit(X_train, Y_train)\n",
    "# evaluate model\n",
    "scores = cross_val_score(model, X_test, Y_test, scoring='accuracy', cv=cv, n_jobs=-1)\n",
    "# report performance\n",
    "print('Accuracy: %.3f (%.3f)' % (mean(scores), std(scores)))\n",
    "print(\"Precision:\",metrics.precision_score(Y_test, Y_pred))\n",
    "print(\"Recall:\",metrics.recall_score(Y_test, Y_pred))\n",
    "print(\"area under curve (auc): \", metrics.roc_auc_score(Y_test, Y_pred))"
   ]
  },
  {
   "cell_type": "code",
   "execution_count": 63,
   "metadata": {},
   "outputs": [
    {
     "name": "stdout",
     "output_type": "stream",
     "text": [
      "area under curve (auc):  0.5172101449275363\n"
     ]
    }
   ],
   "source": [
    "# Area under curve\n",
    "print(\"area under curve (auc): \", metrics.roc_auc_score(Y_test, Y_pred))\n"
   ]
  },
  {
   "cell_type": "code",
   "execution_count": 64,
   "metadata": {},
   "outputs": [
    {
     "name": "stdout",
     "output_type": "stream",
     "text": [
      "[[48  7]\n",
      " [12 42]]\n",
      "              precision    recall  f1-score   support\n",
      "\n",
      "         1.0       0.80      0.87      0.83        55\n",
      "         2.0       0.86      0.78      0.82        54\n",
      "\n",
      "    accuracy                           0.83       109\n",
      "   macro avg       0.83      0.83      0.83       109\n",
      "weighted avg       0.83      0.83      0.83       109\n",
      "\n",
      "area under curve (auc):  0.5172101449275363\n"
     ]
    },
    {
     "name": "stderr",
     "output_type": "stream",
     "text": [
      "C:\\Users\\Mohsen\\anaconda3\\lib\\site-packages\\sklearn\\neural_network\\_multilayer_perceptron.py:614: ConvergenceWarning: Stochastic Optimizer: Maximum iterations (500) reached and the optimization hasn't converged yet.\n",
      "  warnings.warn(\n"
     ]
    }
   ],
   "source": [
    "# Neural Network\n",
    "from sklearn.neural_network import MLPClassifier\n",
    "mlp = MLPClassifier(hidden_layer_sizes=(8,8,8), activation='relu', solver='adam', max_iter=500)\n",
    "model = mlp.fit(X_train,Y_train)\n",
    "predict_train = mlp.predict(X_train)\n",
    "predict_test = mlp.predict(X_test)\n",
    "from sklearn.metrics import classification_report,confusion_matrix\n",
    "print(confusion_matrix(Y_train,predict_train))\n",
    "print(classification_report(Y_train,predict_train))\n",
    "# Area under curve\n",
    "print(\"area under curve (auc): \", metrics.roc_auc_score(Y_test, Y_pred))"
   ]
  },
  {
   "cell_type": "code",
   "execution_count": 68,
   "metadata": {},
   "outputs": [
    {
     "name": "stdout",
     "output_type": "stream",
     "text": [
      "Accuracy: 0.770 (0.140)\n",
      "Precision: 0.6818181818181818\n",
      "Recall: 0.6521739130434783\n",
      "area under curve (auc):  0.6802536231884059\n"
     ]
    }
   ],
   "source": [
    "# Accuracy with Cross validation for Neural Networks\n",
    "# prepare the cross-validation procedure\n",
    "cv = KFold(n_splits=10, random_state=1, shuffle=True)\n",
    "# evaluate model\n",
    "scores = cross_val_score(model, X_test, Y_test, scoring='accuracy', cv=cv, n_jobs=-1)\n",
    "# report performance\n",
    "print('Accuracy: %.3f (%.3f)' % (mean(scores), std(scores)))\n",
    "print(\"Precision:\",metrics.precision_score(Y_test, Y_pred))\n",
    "print(\"Recall:\",metrics.recall_score(Y_test, Y_pred))\n",
    "print(\"area under curve (auc): \", metrics.roc_auc_score(Y_test, Y_pred))"
   ]
  },
  {
   "cell_type": "code",
   "execution_count": 66,
   "metadata": {},
   "outputs": [
    {
     "name": "stdout",
     "output_type": "stream",
     "text": [
      "Requirement already satisfied: xgboost in c:\\users\\mohsen\\anaconda3\\lib\\site-packages (1.5.0)\n",
      "Requirement already satisfied: numpy in c:\\users\\mohsen\\anaconda3\\lib\\site-packages (from xgboost) (1.18.5)\n",
      "Requirement already satisfied: scipy in c:\\users\\mohsen\\anaconda3\\lib\\site-packages (from xgboost) (1.5.0)\n"
     ]
    },
    {
     "name": "stderr",
     "output_type": "stream",
     "text": [
      "C:\\Users\\Mohsen\\anaconda3\\lib\\site-packages\\xgboost\\sklearn.py:1224: UserWarning: The use of label encoder in XGBClassifier is deprecated and will be removed in a future release. To remove this warning, do the following: 1) Pass option use_label_encoder=False when constructing XGBClassifier object; and 2) Encode your labels (y) as integers starting with 0, i.e. 0, 1, 2, ..., [num_class - 1].\n",
      "  warnings.warn(label_encoder_deprecation_msg, UserWarning)\n"
     ]
    },
    {
     "name": "stdout",
     "output_type": "stream",
     "text": [
      "[19:38:12] WARNING: C:/Users/Administrator/workspace/xgboost-win64_release_1.5.0/src/learner.cc:1115: Starting in XGBoost 1.3.0, the default evaluation metric used with the objective 'binary:logistic' was changed from 'error' to 'logloss'. Explicitly set eval_metric if you'd like to restore the old behavior.\n",
      "Accuracy: 68.09%\n",
      "Accuracy: 0.6808510638297872\n",
      "Precision: 0.6818181818181818\n",
      "Recall: 0.6521739130434783\n"
     ]
    }
   ],
   "source": [
    "# train-test split evaluation of xgboost model\n",
    "from numpy import loadtxt\n",
    "!pip install xgboost\n",
    "import xgboost\n",
    "from xgboost import XGBClassifier\n",
    "from sklearn.model_selection import train_test_split\n",
    "from sklearn.metrics import accuracy_score\n",
    "# fit model no training data\n",
    "model = XGBClassifier()\n",
    "model.fit(X_train, Y_train)\n",
    "# make predictions for test data\n",
    "Y_pred = model.predict(X_test)\n",
    "predictions = [round(value) for value in Y_pred]\n",
    "cm = confusion_matrix(Y_test, Y_pred)\n",
    "# evaluate predictions\n",
    "accuracy = accuracy_score(Y_test, predictions)\n",
    "print(\"Accuracy: %.2f%%\" % (accuracy * 100.0))\n",
    "print(\"Accuracy:\",metrics.accuracy_score(Y_test, Y_pred))\n",
    "print(\"Precision:\",metrics.precision_score(Y_test, Y_pred))\n",
    "print(\"Recall:\",metrics.recall_score(Y_test, Y_pred))\n"
   ]
  },
  {
   "cell_type": "code",
   "execution_count": 67,
   "metadata": {},
   "outputs": [
    {
     "name": "stdout",
     "output_type": "stream",
     "text": [
      "area under curve (auc):  0.6802536231884059\n"
     ]
    }
   ],
   "source": [
    "print(\"area under curve (auc): \", metrics.roc_auc_score(Y_test, Y_pred))"
   ]
  },
  {
   "cell_type": "code",
   "execution_count": 70,
   "metadata": {},
   "outputs": [
    {
     "name": "stdout",
     "output_type": "stream",
     "text": [
      "Accuracy: 0.6808510638297872\n",
      "Precision: 0.6818181818181818\n",
      "Recall: 0.6521739130434783\n"
     ]
    }
   ],
   "source": [
    "#Logistic Regression\n",
    "# import the class\n",
    "from sklearn.linear_model import LogisticRegression\n",
    "\n",
    "# instantiate the model (using the default parameters)\n",
    "logreg = LogisticRegression()\n",
    "\n",
    "# fit the model with data\n",
    "logreg.fit(X_train,Y_train)\n",
    "y_pred=logreg.predict(X_test)\n",
    "print(\"Accuracy:\",metrics.accuracy_score(Y_test, Y_pred))\n",
    "print(\"Precision:\",metrics.precision_score(Y_test, Y_pred))\n",
    "print(\"Recall:\",metrics.recall_score(Y_test, Y_pred))\n"
   ]
  },
  {
   "cell_type": "code",
   "execution_count": 78,
   "metadata": {},
   "outputs": [
    {
     "name": "stdout",
     "output_type": "stream",
     "text": [
      "Accuracy: 0.575 (0.299)\n",
      "Precision: 0.6818181818181818\n",
      "Recall: 0.6521739130434783\n",
      "area under curve (auc):  0.6802536231884059\n"
     ]
    }
   ],
   "source": [
    "# Evaluate a logistic regression model using k-fold cross-validation\n",
    "from numpy import mean\n",
    "from numpy import std\n",
    "from sklearn.datasets import make_classification\n",
    "from sklearn.model_selection import KFold\n",
    "from sklearn.model_selection import cross_val_score\n",
    "from sklearn.linear_model import LogisticRegression\n",
    "# prepare the cross-validation procedure\n",
    "cv = KFold(n_splits=10, random_state=1, shuffle=True)\n",
    "# create model\n",
    "model = LogisticRegression()\n",
    "# Evaluate model\n",
    "scores = cross_val_score(model, X_test, Y_test, scoring='accuracy', cv=cv, n_jobs=-1)\n",
    "# report performance\n",
    "print('Accuracy: %.3f (%.3f)' % (mean(scores), std(scores)))\n",
    "print(\"Precision:\",metrics.precision_score(Y_test, Y_pred))\n",
    "print(\"Recall:\",metrics.recall_score(Y_test, Y_pred))\n",
    "print(\"area under curve (auc): \", metrics.roc_auc_score(Y_test, Y_pred))"
   ]
  },
  {
   "cell_type": "code",
   "execution_count": 75,
   "metadata": {},
   "outputs": [
    {
     "data": {
      "text/plain": [
       "array([[15,  8],\n",
       "       [ 7, 17]], dtype=int64)"
      ]
     },
     "execution_count": 75,
     "metadata": {},
     "output_type": "execute_result"
    }
   ],
   "source": [
    "#the Naive Bayes Algorithm\n",
    "from sklearn.preprocessing import LabelEncoder\n",
    "le = LabelEncoder()\n",
    "#Training the Naive Bayes model on the training set\n",
    "from sklearn.naive_bayes import GaussianNB\n",
    "classifier = GaussianNB()\n",
    "model =classifier.fit(X_train, Y_train)\n",
    "y_pred  =  classifier.predict(X_test)\n",
    "from sklearn.metrics import confusion_matrix,accuracy_score\n",
    "cm = confusion_matrix(Y_test, Y_pred)\n",
    "ac = accuracy_score(Y_test,Y_pred)\n",
    "# Acuracy\n",
    "ac\n",
    "# CONFUSION MATRIX\n",
    "cm"
   ]
  },
  {
   "cell_type": "code",
   "execution_count": 77,
   "metadata": {},
   "outputs": [
    {
     "name": "stdout",
     "output_type": "stream",
     "text": [
      "[0.54545455 0.54545455 0.54545455 0.54545455 0.54545455 0.72727273\n",
      " 0.36363636 0.54545455 0.45454545 0.6       ]\n",
      "Accuracy 0.5418181818181818\n",
      "Precision: 0.6818181818181818\n",
      "Recall: 0.6521739130434783\n",
      "area under curve (auc):  0.6802536231884059\n"
     ]
    }
   ],
   "source": [
    "# Accuracy and Cross validation\n",
    "from sklearn.model_selection import cross_val_score\n",
    "# use the same model as before\n",
    "clf = clf.fit(X_train,Y_train)\n",
    "# X,y will automatically devided by 3 folder, the scoring I will still use the accuracy\n",
    "scores = cross_val_score(model, X_train, Y_train, cv=10, scoring='accuracy')\n",
    "# print all 5 times scores \n",
    "print(scores)\n",
    "# then I will do the average about these five scores to get more accuracy score.\n",
    "print('Accuracy',scores.mean())\n",
    "print(\"Precision:\",metrics.precision_score(Y_test, Y_pred))\n",
    "print(\"Recall:\",metrics.recall_score(Y_test, Y_pred))\n",
    "print(\"area under curve (auc): \", metrics.roc_auc_score(Y_test, Y_pred))"
   ]
  },
  {
   "cell_type": "code",
   "execution_count": null,
   "metadata": {},
   "outputs": [],
   "source": []
  }
 ],
 "metadata": {
  "kernelspec": {
   "display_name": "Python 3",
   "language": "python",
   "name": "python3"
  },
  "language_info": {
   "codemirror_mode": {
    "name": "ipython",
    "version": 3
   },
   "file_extension": ".py",
   "mimetype": "text/x-python",
   "name": "python",
   "nbconvert_exporter": "python",
   "pygments_lexer": "ipython3",
   "version": "3.8.3"
  }
 },
 "nbformat": 4,
 "nbformat_minor": 4
}
